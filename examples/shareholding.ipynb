{
 "cells": [
  {
   "cell_type": "markdown",
   "id": "bc9558b2-df16-4e43-893d-bfdf6060602c",
   "metadata": {},
   "source": [
    "Example for https://graph-hub.siwei.io/en/latest/datasets/shareholding"
   ]
  },
  {
   "cell_type": "code",
   "execution_count": 1,
   "id": "3fe5ebbf-fc5f-45d7-bba0-5f97ce2d2bb8",
   "metadata": {},
   "outputs": [],
   "source": [
    "%load_ext ngql"
   ]
  },
  {
   "cell_type": "code",
   "execution_count": 2,
   "id": "5d514fb5-5335-4857-ac5a-4ba243e6e30d",
   "metadata": {},
   "outputs": [
    {
     "name": "stdout",
     "output_type": "stream",
     "text": [
      "Connection Pool Created\n"
     ]
    },
    {
     "data": {
      "text/html": [
       "<div>\n",
       "<style scoped>\n",
       "    .dataframe tbody tr th:only-of-type {\n",
       "        vertical-align: middle;\n",
       "    }\n",
       "\n",
       "    .dataframe tbody tr th {\n",
       "        vertical-align: top;\n",
       "    }\n",
       "\n",
       "    .dataframe thead th {\n",
       "        text-align: right;\n",
       "    }\n",
       "</style>\n",
       "<table border=\"1\" class=\"dataframe\">\n",
       "  <thead>\n",
       "    <tr style=\"text-align: right;\">\n",
       "      <th></th>\n",
       "      <th>Name</th>\n",
       "    </tr>\n",
       "  </thead>\n",
       "  <tbody>\n",
       "    <tr>\n",
       "      <th>0</th>\n",
       "      <td>basketballplayer</td>\n",
       "    </tr>\n",
       "    <tr>\n",
       "      <th>1</th>\n",
       "      <td>freebase_15k</td>\n",
       "    </tr>\n",
       "    <tr>\n",
       "      <th>2</th>\n",
       "      <td>genshin_1</td>\n",
       "    </tr>\n",
       "    <tr>\n",
       "      <th>3</th>\n",
       "      <td>guardians_1</td>\n",
       "    </tr>\n",
       "    <tr>\n",
       "      <th>4</th>\n",
       "      <td>music_world</td>\n",
       "    </tr>\n",
       "    <tr>\n",
       "      <th>5</th>\n",
       "      <td>music_world_kg</td>\n",
       "    </tr>\n",
       "    <tr>\n",
       "      <th>6</th>\n",
       "      <td>shareholding</td>\n",
       "    </tr>\n",
       "    <tr>\n",
       "      <th>7</th>\n",
       "      <td>space_name</td>\n",
       "    </tr>\n",
       "    <tr>\n",
       "      <th>8</th>\n",
       "      <td>test1</td>\n",
       "    </tr>\n",
       "    <tr>\n",
       "      <th>9</th>\n",
       "      <td>test_kg_store</td>\n",
       "    </tr>\n",
       "    <tr>\n",
       "      <th>10</th>\n",
       "      <td>test_nebula_store</td>\n",
       "    </tr>\n",
       "    <tr>\n",
       "      <th>11</th>\n",
       "      <td>{space_name}</td>\n",
       "    </tr>\n",
       "  </tbody>\n",
       "</table>\n",
       "</div>"
      ],
      "text/plain": [
       "                 Name\n",
       "0    basketballplayer\n",
       "1        freebase_15k\n",
       "2           genshin_1\n",
       "3         guardians_1\n",
       "4         music_world\n",
       "5      music_world_kg\n",
       "6        shareholding\n",
       "7          space_name\n",
       "8               test1\n",
       "9       test_kg_store\n",
       "10  test_nebula_store\n",
       "11       {space_name}"
      ]
     },
     "execution_count": 2,
     "metadata": {},
     "output_type": "execute_result"
    }
   ],
   "source": [
    "%ngql --address 127.0.0.1 --port 9669 --user root --password nebula"
   ]
  },
  {
   "cell_type": "code",
   "execution_count": 3,
   "id": "027a68ec-32ec-4aa3-9818-2e6aae241445",
   "metadata": {},
   "outputs": [
    {
     "data": {
      "text/html": [
       "<div>\n",
       "<style scoped>\n",
       "    .dataframe tbody tr th:only-of-type {\n",
       "        vertical-align: middle;\n",
       "    }\n",
       "\n",
       "    .dataframe tbody tr th {\n",
       "        vertical-align: top;\n",
       "    }\n",
       "\n",
       "    .dataframe thead th {\n",
       "        text-align: right;\n",
       "    }\n",
       "</style>\n",
       "<table border=\"1\" class=\"dataframe\">\n",
       "  <thead>\n",
       "    <tr style=\"text-align: right;\">\n",
       "      <th></th>\n",
       "    </tr>\n",
       "  </thead>\n",
       "  <tbody>\n",
       "  </tbody>\n",
       "</table>\n",
       "</div>"
      ],
      "text/plain": [
       "Empty DataFrame\n",
       "Columns: []\n",
       "Index: []"
      ]
     },
     "execution_count": 3,
     "metadata": {},
     "output_type": "execute_result"
    }
   ],
   "source": [
    "%ngql CREATE SPACE IF NOT EXISTS shareholding(partition_num=1, replica_factor=1, vid_type=fixed_string(128));"
   ]
  },
  {
   "cell_type": "code",
   "execution_count": 4,
   "id": "6980506f-4b4f-4c47-816b-b0e79f1c3270",
   "metadata": {},
   "outputs": [
    {
     "data": {
      "text/html": [
       "<div>\n",
       "<style scoped>\n",
       "    .dataframe tbody tr th:only-of-type {\n",
       "        vertical-align: middle;\n",
       "    }\n",
       "\n",
       "    .dataframe tbody tr th {\n",
       "        vertical-align: top;\n",
       "    }\n",
       "\n",
       "    .dataframe thead th {\n",
       "        text-align: right;\n",
       "    }\n",
       "</style>\n",
       "<table border=\"1\" class=\"dataframe\">\n",
       "  <thead>\n",
       "    <tr style=\"text-align: right;\">\n",
       "      <th></th>\n",
       "    </tr>\n",
       "  </thead>\n",
       "  <tbody>\n",
       "  </tbody>\n",
       "</table>\n",
       "</div>"
      ],
      "text/plain": [
       "Empty DataFrame\n",
       "Columns: []\n",
       "Index: []"
      ]
     },
     "execution_count": 4,
     "metadata": {},
     "output_type": "execute_result"
    }
   ],
   "source": [
    "%%ngql\n",
    "USE shareholding;\n",
    "CLEAR SPACE shareholding;"
   ]
  },
  {
   "cell_type": "code",
   "execution_count": 5,
   "id": "395a8520-b62a-48ae-9ec3-cbc4d3e7f8e1",
   "metadata": {},
   "outputs": [
    {
     "data": {
      "text/html": [
       "<div>\n",
       "<style scoped>\n",
       "    .dataframe tbody tr th:only-of-type {\n",
       "        vertical-align: middle;\n",
       "    }\n",
       "\n",
       "    .dataframe tbody tr th {\n",
       "        vertical-align: top;\n",
       "    }\n",
       "\n",
       "    .dataframe thead th {\n",
       "        text-align: right;\n",
       "    }\n",
       "</style>\n",
       "<table border=\"1\" class=\"dataframe\">\n",
       "  <thead>\n",
       "    <tr style=\"text-align: right;\">\n",
       "      <th></th>\n",
       "    </tr>\n",
       "  </thead>\n",
       "  <tbody>\n",
       "  </tbody>\n",
       "</table>\n",
       "</div>"
      ],
      "text/plain": [
       "Empty DataFrame\n",
       "Columns: []\n",
       "Index: []"
      ]
     },
     "execution_count": 5,
     "metadata": {},
     "output_type": "execute_result"
    }
   ],
   "source": [
    "%%ngql\n",
    "CREATE TAG IF NOT EXISTS person(name string);\n",
    "CREATE TAG IF NOT EXISTS corp(name string);\n",
    "\n",
    "CREATE EDGE IF NOT EXISTS role_as(role string);\n",
    "CREATE EDGE IF NOT EXISTS is_branch_of();\n",
    "CREATE EDGE IF NOT EXISTS hold_share(share float);\n",
    "CREATE EDGE IF NOT EXISTS reletive_with(degree int);"
   ]
  },
  {
   "cell_type": "code",
   "execution_count": 6,
   "id": "27ca526d-7ead-4505-9194-3f6b98a46132",
   "metadata": {},
   "outputs": [
    {
     "name": "stdout",
     "output_type": "stream",
     "text": [
      "Parsed 10000 vertices 'shareholding' for tag 'person' in memory\n"
     ]
    },
    {
     "data": {
      "application/vnd.jupyter.widget-view+json": {
       "model_id": "4c7f7c4c6c2146528dfc7f3f9a4618fd",
       "version_major": 2,
       "version_minor": 0
      },
      "text/plain": [
       "Loading Vertices:   0%|          | 0/40 [00:00<?, ?it/s]"
      ]
     },
     "metadata": {},
     "output_type": "display_data"
    },
    {
     "name": "stdout",
     "output_type": "stream",
     "text": [
      "Loaded 256 of 10000 vertices\n",
      "Loaded 512 of 10000 vertices\n",
      "Loaded 768 of 10000 vertices\n",
      "Loaded 1024 of 10000 vertices\n",
      "Loaded 1280 of 10000 vertices\n",
      "Loaded 1536 of 10000 vertices\n",
      "Loaded 1792 of 10000 vertices\n",
      "Loaded 2048 of 10000 vertices\n",
      "Loaded 2304 of 10000 vertices\n",
      "Loaded 2560 of 10000 vertices\n",
      "Loaded 2816 of 10000 vertices\n",
      "Loaded 3072 of 10000 vertices\n",
      "Loaded 3328 of 10000 vertices\n",
      "Loaded 3584 of 10000 vertices\n",
      "Loaded 3840 of 10000 vertices\n",
      "Loaded 4096 of 10000 vertices\n",
      "Loaded 4352 of 10000 vertices\n",
      "Loaded 4608 of 10000 vertices\n",
      "Loaded 4864 of 10000 vertices\n",
      "Loaded 5120 of 10000 vertices\n",
      "Loaded 5376 of 10000 vertices\n",
      "Loaded 5632 of 10000 vertices\n",
      "Loaded 5888 of 10000 vertices\n",
      "Loaded 6144 of 10000 vertices\n",
      "Loaded 6400 of 10000 vertices\n",
      "Loaded 6656 of 10000 vertices\n",
      "Loaded 6912 of 10000 vertices\n",
      "Loaded 7168 of 10000 vertices\n",
      "Loaded 7424 of 10000 vertices\n",
      "Loaded 7680 of 10000 vertices\n",
      "Loaded 7936 of 10000 vertices\n",
      "Loaded 8192 of 10000 vertices\n",
      "Loaded 8448 of 10000 vertices\n",
      "Loaded 8704 of 10000 vertices\n",
      "Loaded 8960 of 10000 vertices\n",
      "Loaded 9216 of 10000 vertices\n",
      "Loaded 9472 of 10000 vertices\n",
      "Loaded 9728 of 10000 vertices\n",
      "Loaded 9984 of 10000 vertices\n",
      "Loaded 10000 of 10000 vertices\n",
      "Successfully loaded 10000 vertices 'shareholding' for tag 'person'\n",
      "Parsed 1000 vertices 'shareholding' for tag 'corp' in memory\n"
     ]
    },
    {
     "data": {
      "application/vnd.jupyter.widget-view+json": {
       "model_id": "4fb8d3cf27354f229ff836800e77fcef",
       "version_major": 2,
       "version_minor": 0
      },
      "text/plain": [
       "Loading Vertices:   0%|          | 0/4 [00:00<?, ?it/s]"
      ]
     },
     "metadata": {},
     "output_type": "display_data"
    },
    {
     "name": "stdout",
     "output_type": "stream",
     "text": [
      "Loaded 256 of 1000 vertices\n",
      "Loaded 512 of 1000 vertices\n",
      "Loaded 768 of 1000 vertices\n",
      "Loaded 1000 of 1000 vertices\n",
      "Successfully loaded 1000 vertices 'shareholding' for tag 'corp'\n",
      "Parsed 5000 edges 'shareholding' for edge type 'role_as' in memory\n"
     ]
    },
    {
     "data": {
      "application/vnd.jupyter.widget-view+json": {
       "model_id": "a92e147595764c9eac38d0fdf706f485",
       "version_major": 2,
       "version_minor": 0
      },
      "text/plain": [
       "Loading Edges:   0%|          | 0/20 [00:00<?, ?it/s]"
      ]
     },
     "metadata": {},
     "output_type": "display_data"
    },
    {
     "name": "stdout",
     "output_type": "stream",
     "text": [
      "Loaded 256 of 5000 edges\n",
      "Loaded 512 of 5000 edges\n",
      "Loaded 768 of 5000 edges\n",
      "Loaded 1024 of 5000 edges\n",
      "Loaded 1280 of 5000 edges\n",
      "Loaded 1536 of 5000 edges\n",
      "Loaded 1792 of 5000 edges\n",
      "Loaded 2048 of 5000 edges\n",
      "Loaded 2304 of 5000 edges\n",
      "Loaded 2560 of 5000 edges\n",
      "Loaded 2816 of 5000 edges\n",
      "Loaded 3072 of 5000 edges\n",
      "Loaded 3328 of 5000 edges\n",
      "Loaded 3584 of 5000 edges\n",
      "Loaded 3840 of 5000 edges\n",
      "Loaded 4096 of 5000 edges\n",
      "Loaded 4352 of 5000 edges\n",
      "Loaded 4608 of 5000 edges\n",
      "Loaded 4864 of 5000 edges\n",
      "Loaded 5000 of 5000 edges\n",
      "Successfully loaded 5000 edges 'shareholding' for edge type 'role_as'\n",
      "Parsed 100 edges 'shareholding' for edge type 'is_branch_of' in memory\n"
     ]
    },
    {
     "data": {
      "application/vnd.jupyter.widget-view+json": {
       "model_id": "4554a67594e145e490a5286ba36cc08c",
       "version_major": 2,
       "version_minor": 0
      },
      "text/plain": [
       "Loading Edges:   0%|          | 0/1 [00:00<?, ?it/s]"
      ]
     },
     "metadata": {},
     "output_type": "display_data"
    },
    {
     "name": "stdout",
     "output_type": "stream",
     "text": [
      "Loaded 100 of 100 edges\n",
      "Successfully loaded 100 edges 'shareholding' for edge type 'is_branch_of'\n",
      "Parsed 200 edges 'shareholding' for edge type 'hold_share' in memory\n"
     ]
    },
    {
     "data": {
      "application/vnd.jupyter.widget-view+json": {
       "model_id": "e614871c87d141d5bff767abfea19361",
       "version_major": 2,
       "version_minor": 0
      },
      "text/plain": [
       "Loading Edges:   0%|          | 0/1 [00:00<?, ?it/s]"
      ]
     },
     "metadata": {},
     "output_type": "display_data"
    },
    {
     "name": "stdout",
     "output_type": "stream",
     "text": [
      "Loaded 200 of 200 edges\n",
      "Successfully loaded 200 edges 'shareholding' for edge type 'hold_share'\n",
      "Parsed 20000 edges 'shareholding' for edge type 'hold_share' in memory\n"
     ]
    },
    {
     "data": {
      "application/vnd.jupyter.widget-view+json": {
       "model_id": "f32c97d20f35490f84d15412260f72eb",
       "version_major": 2,
       "version_minor": 0
      },
      "text/plain": [
       "Loading Edges:   0%|          | 0/79 [00:00<?, ?it/s]"
      ]
     },
     "metadata": {},
     "output_type": "display_data"
    },
    {
     "name": "stdout",
     "output_type": "stream",
     "text": [
      "Loaded 256 of 20000 edges\n",
      "Loaded 512 of 20000 edges\n",
      "Loaded 768 of 20000 edges\n",
      "Loaded 1024 of 20000 edges\n",
      "Loaded 1280 of 20000 edges\n",
      "Loaded 1536 of 20000 edges\n",
      "Loaded 1792 of 20000 edges\n",
      "Loaded 2048 of 20000 edges\n",
      "Loaded 2304 of 20000 edges\n",
      "Loaded 2560 of 20000 edges\n",
      "Loaded 2816 of 20000 edges\n",
      "Loaded 3072 of 20000 edges\n",
      "Loaded 3328 of 20000 edges\n",
      "Loaded 3584 of 20000 edges\n",
      "Loaded 3840 of 20000 edges\n",
      "Loaded 4096 of 20000 edges\n",
      "Loaded 4352 of 20000 edges\n",
      "Loaded 4608 of 20000 edges\n",
      "Loaded 4864 of 20000 edges\n",
      "Loaded 5120 of 20000 edges\n",
      "Loaded 5376 of 20000 edges\n",
      "Loaded 5632 of 20000 edges\n",
      "Loaded 5888 of 20000 edges\n",
      "Loaded 6144 of 20000 edges\n",
      "Loaded 6400 of 20000 edges\n",
      "Loaded 6656 of 20000 edges\n",
      "Loaded 6912 of 20000 edges\n",
      "Loaded 7168 of 20000 edges\n",
      "Loaded 7424 of 20000 edges\n",
      "Loaded 7680 of 20000 edges\n",
      "Loaded 7936 of 20000 edges\n",
      "Loaded 8192 of 20000 edges\n",
      "Loaded 8448 of 20000 edges\n",
      "Loaded 8704 of 20000 edges\n",
      "Loaded 8960 of 20000 edges\n",
      "Loaded 9216 of 20000 edges\n",
      "Loaded 9472 of 20000 edges\n",
      "Loaded 9728 of 20000 edges\n",
      "Loaded 9984 of 20000 edges\n",
      "Loaded 10240 of 20000 edges\n",
      "Loaded 10496 of 20000 edges\n",
      "Loaded 10752 of 20000 edges\n",
      "Loaded 11008 of 20000 edges\n",
      "Loaded 11264 of 20000 edges\n",
      "Loaded 11520 of 20000 edges\n",
      "Loaded 11776 of 20000 edges\n",
      "Loaded 12032 of 20000 edges\n",
      "Loaded 12288 of 20000 edges\n",
      "Loaded 12544 of 20000 edges\n",
      "Loaded 12800 of 20000 edges\n",
      "Loaded 13056 of 20000 edges\n",
      "Loaded 13312 of 20000 edges\n",
      "Loaded 13568 of 20000 edges\n",
      "Loaded 13824 of 20000 edges\n",
      "Loaded 14080 of 20000 edges\n",
      "Loaded 14336 of 20000 edges\n",
      "Loaded 14592 of 20000 edges\n",
      "Loaded 14848 of 20000 edges\n",
      "Loaded 15104 of 20000 edges\n",
      "Loaded 15360 of 20000 edges\n",
      "Loaded 15616 of 20000 edges\n",
      "Loaded 15872 of 20000 edges\n",
      "Loaded 16128 of 20000 edges\n",
      "Loaded 16384 of 20000 edges\n",
      "Loaded 16640 of 20000 edges\n",
      "Loaded 16896 of 20000 edges\n",
      "Loaded 17152 of 20000 edges\n",
      "Loaded 17408 of 20000 edges\n",
      "Loaded 17664 of 20000 edges\n",
      "Loaded 17920 of 20000 edges\n",
      "Loaded 18176 of 20000 edges\n",
      "Loaded 18432 of 20000 edges\n",
      "Loaded 18688 of 20000 edges\n",
      "Loaded 18944 of 20000 edges\n",
      "Loaded 19200 of 20000 edges\n",
      "Loaded 19456 of 20000 edges\n",
      "Loaded 19712 of 20000 edges\n",
      "Loaded 19968 of 20000 edges\n",
      "Loaded 20000 of 20000 edges\n",
      "Successfully loaded 20000 edges 'shareholding' for edge type 'hold_share'\n",
      "Parsed 1000 edges 'shareholding' for edge type 'reletive_with' in memory\n"
     ]
    },
    {
     "data": {
      "application/vnd.jupyter.widget-view+json": {
       "model_id": "270928dd2d34494390623b09e7fdfc05",
       "version_major": 2,
       "version_minor": 0
      },
      "text/plain": [
       "Loading Edges:   0%|          | 0/4 [00:00<?, ?it/s]"
      ]
     },
     "metadata": {},
     "output_type": "display_data"
    },
    {
     "name": "stdout",
     "output_type": "stream",
     "text": [
      "Loaded 256 of 1000 edges\n",
      "Loaded 512 of 1000 edges\n",
      "Loaded 768 of 1000 edges\n",
      "Loaded 1000 of 1000 edges\n",
      "Successfully loaded 1000 edges 'shareholding' for edge type 'reletive_with'\n"
     ]
    }
   ],
   "source": [
    "%ng_load  --source https://github.com/wey-gu/awesome-graph-dataset/raw/main/datasets/shareholding/tiny/person.csv --tag person --vid 0 --props 1:name --space shareholding\n",
    "%ng_load  --source https://github.com/wey-gu/awesome-graph-dataset/raw/main/datasets/shareholding/tiny/corp.csv --tag corp --vid 0 --props 1:name --space shareholding\n",
    "%ng_load  --source https://github.com/wey-gu/awesome-graph-dataset/raw/main/datasets/shareholding/tiny/person_corp_role.csv --edge role_as --src 0 --dst 1 --props 2:role  --space shareholding\n",
    "%ng_load  --source https://github.com/wey-gu/awesome-graph-dataset/raw/main/datasets/shareholding/tiny/corp_rel.csv --edge is_branch_of --src 0 --dst 1   --space shareholding\n",
    "%ng_load  --source https://github.com/wey-gu/awesome-graph-dataset/raw/main/datasets/shareholding/tiny/corp_share.csv --edge hold_share --src 0 --dst 1 --props 2:share  --space shareholding\n",
    "%ng_load  --source https://github.com/wey-gu/awesome-graph-dataset/raw/main/datasets/shareholding/tiny/person_corp_share.csv --edge hold_share --src 0 --dst 1 --props 2:share  --space shareholding\n",
    "%ng_load  --source https://github.com/wey-gu/awesome-graph-dataset/raw/main/datasets/shareholding/tiny/person_rel.csv --edge reletive_with --src 0 --dst 1 --props 2:degree  --space shareholding"
   ]
  },
  {
   "cell_type": "code",
   "execution_count": 7,
   "id": "080472fc-7e62-44a7-97e8-0b81de23ec87",
   "metadata": {},
   "outputs": [
    {
     "data": {
      "text/html": [
       "\n",
       "        <iframe\n",
       "            width=\"100%\"\n",
       "            height=\"500px\"\n",
       "            src=\"nebulagraph_schema.html\"\n",
       "            frameborder=\"0\"\n",
       "            allowfullscreen\n",
       "            \n",
       "        ></iframe>\n",
       "        "
      ],
      "text/plain": [
       "<IPython.lib.display.IFrame at 0x7f0078325bd0>"
      ]
     },
     "metadata": {},
     "output_type": "display_data"
    },
    {
     "data": {
      "text/plain": [
       "<class 'pyvis.network.Network'> |N|=2 |E|=4"
      ]
     },
     "execution_count": 7,
     "metadata": {},
     "output_type": "execute_result"
    }
   ],
   "source": [
    "%ng_draw_schema"
   ]
  },
  {
   "cell_type": "code",
   "execution_count": 18,
   "id": "1fe8f21d-95e4-4ecb-9339-670bde07f0f2",
   "metadata": {},
   "outputs": [
    {
     "data": {
      "text/html": [
       "<div>\n",
       "<style scoped>\n",
       "    .dataframe tbody tr th:only-of-type {\n",
       "        vertical-align: middle;\n",
       "    }\n",
       "\n",
       "    .dataframe tbody tr th {\n",
       "        vertical-align: top;\n",
       "    }\n",
       "\n",
       "    .dataframe thead th {\n",
       "        text-align: right;\n",
       "    }\n",
       "</style>\n",
       "<table border=\"1\" class=\"dataframe\">\n",
       "  <thead>\n",
       "    <tr style=\"text-align: right;\">\n",
       "      <th></th>\n",
       "      <th>v</th>\n",
       "      <th>e</th>\n",
       "    </tr>\n",
       "  </thead>\n",
       "  <tbody>\n",
       "    <tr>\n",
       "      <th>0</th>\n",
       "      <td>[(\"p_0\" :person{})]</td>\n",
       "      <td>[(\"p_0\")-[:hold_share@0{}]-&gt;(\"c_214\"), (\"p_0\")...</td>\n",
       "    </tr>\n",
       "    <tr>\n",
       "      <th>1</th>\n",
       "      <td>[(\"c_214\" :corp{}), (\"c_860\" :corp{}), (\"p_108...</td>\n",
       "      <td>[(\"p_1895\")-[:hold_share@0{}]-&gt;(\"c_214\"), (\"p_...</td>\n",
       "    </tr>\n",
       "    <tr>\n",
       "      <th>2</th>\n",
       "      <td>[(\"p_1895\" :person{}), (\"p_2409\" :person{}), (...</td>\n",
       "      <td>[(\"p_1895\")-[:hold_share@0{}]-&gt;(\"c_112\"), (\"p_...</td>\n",
       "    </tr>\n",
       "    <tr>\n",
       "      <th>3</th>\n",
       "      <td>[(\"c_112\" :corp{}), (\"c_840\" :corp{}), (\"c_978...</td>\n",
       "      <td>[(\"p_3519\")-[:hold_share@0{}]-&gt;(\"c_447\"), (\"c_...</td>\n",
       "    </tr>\n",
       "  </tbody>\n",
       "</table>\n",
       "</div>"
      ],
      "text/plain": [
       "                                                   v  \\\n",
       "0                                [(\"p_0\" :person{})]   \n",
       "1  [(\"c_214\" :corp{}), (\"c_860\" :corp{}), (\"p_108...   \n",
       "2  [(\"p_1895\" :person{}), (\"p_2409\" :person{}), (...   \n",
       "3  [(\"c_112\" :corp{}), (\"c_840\" :corp{}), (\"c_978...   \n",
       "\n",
       "                                                   e  \n",
       "0  [(\"p_0\")-[:hold_share@0{}]->(\"c_214\"), (\"p_0\")...  \n",
       "1  [(\"p_1895\")-[:hold_share@0{}]->(\"c_214\"), (\"p_...  \n",
       "2  [(\"p_1895\")-[:hold_share@0{}]->(\"c_112\"), (\"p_...  \n",
       "3  [(\"p_3519\")-[:hold_share@0{}]->(\"c_447\"), (\"c_...  "
      ]
     },
     "execution_count": 18,
     "metadata": {},
     "output_type": "execute_result"
    }
   ],
   "source": [
    "%ngql GET SUBGRAPH 3 STEPS FROM \"p_0\" YIELD VERTICES as v, EDGES as e;"
   ]
  },
  {
   "cell_type": "code",
   "execution_count": 19,
   "id": "e99f087a-3781-4ecf-a5ad-450471a1f72f",
   "metadata": {},
   "outputs": [
    {
     "data": {
      "text/html": [
       "\n",
       "        <iframe\n",
       "            width=\"100%\"\n",
       "            height=\"500px\"\n",
       "            src=\"nebulagraph.html\"\n",
       "            frameborder=\"0\"\n",
       "            allowfullscreen\n",
       "            \n",
       "        ></iframe>\n",
       "        "
      ],
      "text/plain": [
       "<IPython.lib.display.IFrame at 0x7f007380fd30>"
      ]
     },
     "metadata": {},
     "output_type": "display_data"
    },
    {
     "data": {
      "text/plain": [
       "<class 'pyvis.network.Network'> |N|=206 |E|=225"
      ]
     },
     "execution_count": 19,
     "metadata": {},
     "output_type": "execute_result"
    }
   ],
   "source": [
    "%ng_draw"
   ]
  },
  {
   "cell_type": "code",
   "execution_count": null,
   "id": "4c4f1ff9-9d93-4242-a5da-2bba3d9aef8e",
   "metadata": {},
   "outputs": [],
   "source": []
  }
 ],
 "metadata": {
  "kernelspec": {
   "display_name": "Python 3 (ipykernel)",
   "language": "python",
   "name": "python3"
  },
  "language_info": {
   "codemirror_mode": {
    "name": "ipython",
    "version": 3
   },
   "file_extension": ".py",
   "mimetype": "text/x-python",
   "name": "python",
   "nbconvert_exporter": "python",
   "pygments_lexer": "ipython3",
   "version": "3.10.12"
  }
 },
 "nbformat": 4,
 "nbformat_minor": 5
}
