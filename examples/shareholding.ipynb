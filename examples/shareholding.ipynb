{
 "cells": [
  {
   "cell_type": "markdown",
   "id": "bc9558b2-df16-4e43-893d-bfdf6060602c",
   "metadata": {},
   "source": [
    "Example for https://graph-hub.siwei.io/en/stable/datasets/shareholding"
   ]
  },
  {
   "cell_type": "code",
   "execution_count": 1,
   "id": "3fe5ebbf-fc5f-45d7-bba0-5f97ce2d2bb8",
   "metadata": {},
   "outputs": [],
   "source": [
    "%load_ext ngql"
   ]
  },
  {
   "cell_type": "code",
   "execution_count": 2,
   "id": "5d514fb5-5335-4857-ac5a-4ba243e6e30d",
   "metadata": {},
   "outputs": [
    {
     "name": "stdout",
     "output_type": "stream",
     "text": [
      "\u001b[1;3;38;2;47;75;124mConnection Pool Created\u001b[0m\n"
     ]
    },
    {
     "data": {
      "text/html": [
       "<div>\n",
       "<style scoped>\n",
       "    .dataframe tbody tr th:only-of-type {\n",
       "        vertical-align: middle;\n",
       "    }\n",
       "\n",
       "    .dataframe tbody tr th {\n",
       "        vertical-align: top;\n",
       "    }\n",
       "\n",
       "    .dataframe thead th {\n",
       "        text-align: right;\n",
       "    }\n",
       "</style>\n",
       "<table border=\"1\" class=\"dataframe\">\n",
       "  <thead>\n",
       "    <tr style=\"text-align: right;\">\n",
       "      <th></th>\n",
       "      <th>Name</th>\n",
       "    </tr>\n",
       "  </thead>\n",
       "  <tbody>\n",
       "    <tr>\n",
       "      <th>0</th>\n",
       "      <td>basketballplayer</td>\n",
       "    </tr>\n",
       "    <tr>\n",
       "      <th>1</th>\n",
       "      <td>cssc</td>\n",
       "    </tr>\n",
       "    <tr>\n",
       "      <th>2</th>\n",
       "      <td>demo_basketballplayer</td>\n",
       "    </tr>\n",
       "    <tr>\n",
       "      <th>3</th>\n",
       "      <td>demo_supplychain</td>\n",
       "    </tr>\n",
       "    <tr>\n",
       "      <th>4</th>\n",
       "      <td>electric_power</td>\n",
       "    </tr>\n",
       "    <tr>\n",
       "      <th>5</th>\n",
       "      <td>fraud_detection</td>\n",
       "    </tr>\n",
       "    <tr>\n",
       "      <th>6</th>\n",
       "      <td>freebase_15k</td>\n",
       "    </tr>\n",
       "    <tr>\n",
       "      <th>7</th>\n",
       "      <td>li_auto</td>\n",
       "    </tr>\n",
       "    <tr>\n",
       "      <th>8</th>\n",
       "      <td>llamaindex_nebula_property_graph</td>\n",
       "    </tr>\n",
       "    <tr>\n",
       "      <th>9</th>\n",
       "      <td>movie_recommendation</td>\n",
       "    </tr>\n",
       "    <tr>\n",
       "      <th>10</th>\n",
       "      <td>music_gateway</td>\n",
       "    </tr>\n",
       "    <tr>\n",
       "      <th>11</th>\n",
       "      <td>music_world</td>\n",
       "    </tr>\n",
       "    <tr>\n",
       "      <th>12</th>\n",
       "      <td>nba</td>\n",
       "    </tr>\n",
       "    <tr>\n",
       "      <th>13</th>\n",
       "      <td>news</td>\n",
       "    </tr>\n",
       "    <tr>\n",
       "      <th>14</th>\n",
       "      <td>sec10q</td>\n",
       "    </tr>\n",
       "    <tr>\n",
       "      <th>15</th>\n",
       "      <td>shareholding</td>\n",
       "    </tr>\n",
       "    <tr>\n",
       "      <th>16</th>\n",
       "      <td>supply_chain</td>\n",
       "    </tr>\n",
       "    <tr>\n",
       "      <th>17</th>\n",
       "      <td>supplychain</td>\n",
       "    </tr>\n",
       "    <tr>\n",
       "      <th>18</th>\n",
       "      <td>test</td>\n",
       "    </tr>\n",
       "    <tr>\n",
       "      <th>19</th>\n",
       "      <td>test_property_graph_store</td>\n",
       "    </tr>\n",
       "    <tr>\n",
       "      <th>20</th>\n",
       "      <td>test_tree_doc_index</td>\n",
       "    </tr>\n",
       "    <tr>\n",
       "      <th>21</th>\n",
       "      <td>yanli_1</td>\n",
       "    </tr>\n",
       "  </tbody>\n",
       "</table>\n",
       "</div>"
      ],
      "text/plain": [
       "                                Name\n",
       "0                   basketballplayer\n",
       "1                               cssc\n",
       "2              demo_basketballplayer\n",
       "3                   demo_supplychain\n",
       "4                     electric_power\n",
       "5                    fraud_detection\n",
       "6                       freebase_15k\n",
       "7                            li_auto\n",
       "8   llamaindex_nebula_property_graph\n",
       "9               movie_recommendation\n",
       "10                     music_gateway\n",
       "11                       music_world\n",
       "12                               nba\n",
       "13                              news\n",
       "14                            sec10q\n",
       "15                      shareholding\n",
       "16                      supply_chain\n",
       "17                       supplychain\n",
       "18                              test\n",
       "19         test_property_graph_store\n",
       "20               test_tree_doc_index\n",
       "21                           yanli_1"
      ]
     },
     "execution_count": 2,
     "metadata": {},
     "output_type": "execute_result"
    }
   ],
   "source": [
    "%ngql --address 127.0.0.1 --port 9669 --user root --password nebula"
   ]
  },
  {
   "cell_type": "code",
   "execution_count": 3,
   "id": "027a68ec-32ec-4aa3-9818-2e6aae241445",
   "metadata": {},
   "outputs": [
    {
     "data": {
      "text/html": [
       "<div>\n",
       "<style scoped>\n",
       "    .dataframe tbody tr th:only-of-type {\n",
       "        vertical-align: middle;\n",
       "    }\n",
       "\n",
       "    .dataframe tbody tr th {\n",
       "        vertical-align: top;\n",
       "    }\n",
       "\n",
       "    .dataframe thead th {\n",
       "        text-align: right;\n",
       "    }\n",
       "</style>\n",
       "<table border=\"1\" class=\"dataframe\">\n",
       "  <thead>\n",
       "    <tr style=\"text-align: right;\">\n",
       "      <th></th>\n",
       "    </tr>\n",
       "  </thead>\n",
       "  <tbody>\n",
       "  </tbody>\n",
       "</table>\n",
       "</div>"
      ],
      "text/plain": [
       "Empty DataFrame\n",
       "Columns: []\n",
       "Index: []"
      ]
     },
     "execution_count": 3,
     "metadata": {},
     "output_type": "execute_result"
    }
   ],
   "source": [
    "%ngql CREATE SPACE IF NOT EXISTS shareholding(partition_num=1, replica_factor=1, vid_type=fixed_string(128));"
   ]
  },
  {
   "cell_type": "code",
   "execution_count": 4,
   "id": "6980506f-4b4f-4c47-816b-b0e79f1c3270",
   "metadata": {},
   "outputs": [
    {
     "data": {
      "text/html": [
       "<div>\n",
       "<style scoped>\n",
       "    .dataframe tbody tr th:only-of-type {\n",
       "        vertical-align: middle;\n",
       "    }\n",
       "\n",
       "    .dataframe tbody tr th {\n",
       "        vertical-align: top;\n",
       "    }\n",
       "\n",
       "    .dataframe thead th {\n",
       "        text-align: right;\n",
       "    }\n",
       "</style>\n",
       "<table border=\"1\" class=\"dataframe\">\n",
       "  <thead>\n",
       "    <tr style=\"text-align: right;\">\n",
       "      <th></th>\n",
       "    </tr>\n",
       "  </thead>\n",
       "  <tbody>\n",
       "  </tbody>\n",
       "</table>\n",
       "</div>"
      ],
      "text/plain": [
       "Empty DataFrame\n",
       "Columns: []\n",
       "Index: []"
      ]
     },
     "execution_count": 4,
     "metadata": {},
     "output_type": "execute_result"
    }
   ],
   "source": [
    "%%ngql\n",
    "USE shareholding;\n",
    "CLEAR SPACE shareholding;"
   ]
  },
  {
   "cell_type": "code",
   "execution_count": 5,
   "id": "395a8520-b62a-48ae-9ec3-cbc4d3e7f8e1",
   "metadata": {},
   "outputs": [
    {
     "data": {
      "text/html": [
       "<div>\n",
       "<style scoped>\n",
       "    .dataframe tbody tr th:only-of-type {\n",
       "        vertical-align: middle;\n",
       "    }\n",
       "\n",
       "    .dataframe tbody tr th {\n",
       "        vertical-align: top;\n",
       "    }\n",
       "\n",
       "    .dataframe thead th {\n",
       "        text-align: right;\n",
       "    }\n",
       "</style>\n",
       "<table border=\"1\" class=\"dataframe\">\n",
       "  <thead>\n",
       "    <tr style=\"text-align: right;\">\n",
       "      <th></th>\n",
       "    </tr>\n",
       "  </thead>\n",
       "  <tbody>\n",
       "  </tbody>\n",
       "</table>\n",
       "</div>"
      ],
      "text/plain": [
       "Empty DataFrame\n",
       "Columns: []\n",
       "Index: []"
      ]
     },
     "execution_count": 5,
     "metadata": {},
     "output_type": "execute_result"
    }
   ],
   "source": [
    "%%ngql\n",
    "CREATE TAG IF NOT EXISTS person(name string);\n",
    "CREATE TAG IF NOT EXISTS corp(name string);\n",
    "\n",
    "CREATE EDGE IF NOT EXISTS role_as(role string);\n",
    "CREATE EDGE IF NOT EXISTS is_branch_of();\n",
    "CREATE EDGE IF NOT EXISTS hold_share(share float);\n",
    "CREATE EDGE IF NOT EXISTS reletive_with(degree int);"
   ]
  },
  {
   "cell_type": "code",
   "execution_count": 6,
   "id": "27ca526d-7ead-4505-9194-3f6b98a46132",
   "metadata": {},
   "outputs": [
    {
     "name": "stdout",
     "output_type": "stream",
     "text": [
      "\u001b[1;3;38;2;0;120;215m[INFO] Parsed 10000 vertices 'shareholding' for tag 'person' in memory\u001b[0m\n"
     ]
    },
    {
     "data": {
      "application/vnd.jupyter.widget-view+json": {
       "model_id": "d62039e2ac604961a5558476ddea2225",
       "version_major": 2,
       "version_minor": 0
      },
      "text/plain": [
       "Loading Vertices:   0%|          | 0/40 [00:00<?, ?it/s]"
      ]
     },
     "metadata": {},
     "output_type": "display_data"
    },
    {
     "name": "stdout",
     "output_type": "stream",
     "text": [
      "Loaded 256 of 10000 vertices\n",
      "Loaded 512 of 10000 vertices\n",
      "Loaded 768 of 10000 vertices\n",
      "Loaded 1024 of 10000 vertices\n",
      "Loaded 1280 of 10000 vertices\n",
      "Loaded 1536 of 10000 vertices\n",
      "Loaded 1792 of 10000 vertices\n",
      "Loaded 2048 of 10000 vertices\n",
      "Loaded 2304 of 10000 vertices\n",
      "Loaded 2560 of 10000 vertices\n",
      "Loaded 2816 of 10000 vertices\n",
      "Loaded 3072 of 10000 vertices\n",
      "Loaded 3328 of 10000 vertices\n",
      "Loaded 3584 of 10000 vertices\n",
      "Loaded 3840 of 10000 vertices\n",
      "Loaded 4096 of 10000 vertices\n",
      "Loaded 4352 of 10000 vertices\n",
      "Loaded 4608 of 10000 vertices\n",
      "Loaded 4864 of 10000 vertices\n",
      "Loaded 5120 of 10000 vertices\n",
      "Loaded 5376 of 10000 vertices\n",
      "Loaded 5632 of 10000 vertices\n",
      "Loaded 5888 of 10000 vertices\n",
      "Loaded 6144 of 10000 vertices\n",
      "Loaded 6400 of 10000 vertices\n",
      "Loaded 6656 of 10000 vertices\n",
      "Loaded 6912 of 10000 vertices\n",
      "Loaded 7168 of 10000 vertices\n",
      "Loaded 7424 of 10000 vertices\n",
      "Loaded 7680 of 10000 vertices\n",
      "Loaded 7936 of 10000 vertices\n",
      "Loaded 8192 of 10000 vertices\n",
      "Loaded 8448 of 10000 vertices\n",
      "Loaded 8704 of 10000 vertices\n",
      "Loaded 8960 of 10000 vertices\n",
      "Loaded 9216 of 10000 vertices\n",
      "Loaded 9472 of 10000 vertices\n",
      "Loaded 9728 of 10000 vertices\n",
      "Loaded 9984 of 10000 vertices\n",
      "Loaded 10000 of 10000 vertices\n",
      "\u001b[1;3;38;2;0;135;107m[INFO] Successfully loaded 10000 vertices 'shareholding' for tag 'person'\u001b[0m\n",
      "\u001b[1;3;38;2;0;120;215m[INFO] Parsed 1000 vertices 'shareholding' for tag 'corp' in memory\u001b[0m\n"
     ]
    },
    {
     "data": {
      "application/vnd.jupyter.widget-view+json": {
       "model_id": "b86c50cfb3a3406193b15ff5e8ca6584",
       "version_major": 2,
       "version_minor": 0
      },
      "text/plain": [
       "Loading Vertices:   0%|          | 0/4 [00:00<?, ?it/s]"
      ]
     },
     "metadata": {},
     "output_type": "display_data"
    },
    {
     "name": "stdout",
     "output_type": "stream",
     "text": [
      "Loaded 256 of 1000 vertices\n",
      "Loaded 512 of 1000 vertices\n",
      "Loaded 768 of 1000 vertices\n",
      "Loaded 1000 of 1000 vertices\n",
      "\u001b[1;3;38;2;0;135;107m[INFO] Successfully loaded 1000 vertices 'shareholding' for tag 'corp'\u001b[0m\n",
      "\u001b[1;3;38;2;0;120;215m[INFO] Parsed 5000 edges 'shareholding' for edge type 'role_as' in memory\u001b[0m\n"
     ]
    },
    {
     "data": {
      "application/vnd.jupyter.widget-view+json": {
       "model_id": "380e7206eb0f44058d3da49631a14535",
       "version_major": 2,
       "version_minor": 0
      },
      "text/plain": [
       "Loading Edges:   0%|          | 0/20 [00:00<?, ?it/s]"
      ]
     },
     "metadata": {},
     "output_type": "display_data"
    },
    {
     "name": "stdout",
     "output_type": "stream",
     "text": [
      "Loaded 256 of 5000 edges\n",
      "Loaded 512 of 5000 edges\n",
      "Loaded 768 of 5000 edges\n",
      "Loaded 1024 of 5000 edges\n",
      "Loaded 1280 of 5000 edges\n",
      "Loaded 1536 of 5000 edges\n",
      "Loaded 1792 of 5000 edges\n",
      "Loaded 2048 of 5000 edges\n",
      "Loaded 2304 of 5000 edges\n",
      "Loaded 2560 of 5000 edges\n",
      "Loaded 2816 of 5000 edges\n",
      "Loaded 3072 of 5000 edges\n",
      "Loaded 3328 of 5000 edges\n",
      "Loaded 3584 of 5000 edges\n",
      "Loaded 3840 of 5000 edges\n",
      "Loaded 4096 of 5000 edges\n",
      "Loaded 4352 of 5000 edges\n",
      "Loaded 4608 of 5000 edges\n",
      "Loaded 4864 of 5000 edges\n",
      "Loaded 5000 of 5000 edges\n",
      "\u001b[1;3;38;2;0;135;107m[INFO] Successfully loaded 5000 edges 'shareholding' for edge type 'role_as'\u001b[0m\n",
      "\u001b[1;3;38;2;0;120;215m[INFO] Parsed 100 edges 'shareholding' for edge type 'is_branch_of' in memory\u001b[0m\n"
     ]
    },
    {
     "data": {
      "application/vnd.jupyter.widget-view+json": {
       "model_id": "128e38d1a26943faadaaf7c2274dda0f",
       "version_major": 2,
       "version_minor": 0
      },
      "text/plain": [
       "Loading Edges:   0%|          | 0/1 [00:00<?, ?it/s]"
      ]
     },
     "metadata": {},
     "output_type": "display_data"
    },
    {
     "name": "stdout",
     "output_type": "stream",
     "text": [
      "Loaded 100 of 100 edges\n",
      "\u001b[1;3;38;2;0;135;107m[INFO] Successfully loaded 100 edges 'shareholding' for edge type 'is_branch_of'\u001b[0m\n",
      "\u001b[1;3;38;2;0;120;215m[INFO] Parsed 200 edges 'shareholding' for edge type 'hold_share' in memory\u001b[0m\n"
     ]
    },
    {
     "data": {
      "application/vnd.jupyter.widget-view+json": {
       "model_id": "2c4257daac7647c8b0b6aea1a7c78774",
       "version_major": 2,
       "version_minor": 0
      },
      "text/plain": [
       "Loading Edges:   0%|          | 0/1 [00:00<?, ?it/s]"
      ]
     },
     "metadata": {},
     "output_type": "display_data"
    },
    {
     "name": "stdout",
     "output_type": "stream",
     "text": [
      "Loaded 200 of 200 edges\n",
      "\u001b[1;3;38;2;0;135;107m[INFO] Successfully loaded 200 edges 'shareholding' for edge type 'hold_share'\u001b[0m\n",
      "\u001b[1;3;38;2;0;120;215m[INFO] Parsed 20000 edges 'shareholding' for edge type 'hold_share' in memory\u001b[0m\n"
     ]
    },
    {
     "data": {
      "application/vnd.jupyter.widget-view+json": {
       "model_id": "43c0c8b3e72247feb55494cea2aadb3d",
       "version_major": 2,
       "version_minor": 0
      },
      "text/plain": [
       "Loading Edges:   0%|          | 0/79 [00:00<?, ?it/s]"
      ]
     },
     "metadata": {},
     "output_type": "display_data"
    },
    {
     "name": "stdout",
     "output_type": "stream",
     "text": [
      "Loaded 256 of 20000 edges\n",
      "Loaded 512 of 20000 edges\n",
      "Loaded 768 of 20000 edges\n",
      "Loaded 1024 of 20000 edges\n",
      "Loaded 1280 of 20000 edges\n",
      "Loaded 1536 of 20000 edges\n",
      "Loaded 1792 of 20000 edges\n",
      "Loaded 2048 of 20000 edges\n",
      "Loaded 2304 of 20000 edges\n",
      "Loaded 2560 of 20000 edges\n",
      "Loaded 2816 of 20000 edges\n",
      "Loaded 3072 of 20000 edges\n",
      "Loaded 3328 of 20000 edges\n",
      "Loaded 3584 of 20000 edges\n",
      "Loaded 3840 of 20000 edges\n",
      "Loaded 4096 of 20000 edges\n",
      "Loaded 4352 of 20000 edges\n",
      "Loaded 4608 of 20000 edges\n",
      "Loaded 4864 of 20000 edges\n",
      "Loaded 5120 of 20000 edges\n",
      "Loaded 5376 of 20000 edges\n",
      "Loaded 5632 of 20000 edges\n",
      "Loaded 5888 of 20000 edges\n",
      "Loaded 6144 of 20000 edges\n",
      "Loaded 6400 of 20000 edges\n",
      "Loaded 6656 of 20000 edges\n",
      "Loaded 6912 of 20000 edges\n",
      "Loaded 7168 of 20000 edges\n",
      "Loaded 7424 of 20000 edges\n",
      "Loaded 7680 of 20000 edges\n",
      "Loaded 7936 of 20000 edges\n",
      "Loaded 8192 of 20000 edges\n",
      "Loaded 8448 of 20000 edges\n",
      "Loaded 8704 of 20000 edges\n",
      "Loaded 8960 of 20000 edges\n",
      "Loaded 9216 of 20000 edges\n",
      "Loaded 9472 of 20000 edges\n",
      "Loaded 9728 of 20000 edges\n",
      "Loaded 9984 of 20000 edges\n",
      "Loaded 10240 of 20000 edges\n",
      "Loaded 10496 of 20000 edges\n",
      "Loaded 10752 of 20000 edges\n",
      "Loaded 11008 of 20000 edges\n",
      "Loaded 11264 of 20000 edges\n",
      "Loaded 11520 of 20000 edges\n",
      "Loaded 11776 of 20000 edges\n",
      "Loaded 12032 of 20000 edges\n",
      "Loaded 12288 of 20000 edges\n",
      "Loaded 12544 of 20000 edges\n",
      "Loaded 12800 of 20000 edges\n",
      "Loaded 13056 of 20000 edges\n",
      "Loaded 13312 of 20000 edges\n",
      "Loaded 13568 of 20000 edges\n",
      "Loaded 13824 of 20000 edges\n",
      "Loaded 14080 of 20000 edges\n",
      "Loaded 14336 of 20000 edges\n",
      "Loaded 14592 of 20000 edges\n",
      "Loaded 14848 of 20000 edges\n",
      "Loaded 15104 of 20000 edges\n",
      "Loaded 15360 of 20000 edges\n",
      "Loaded 15616 of 20000 edges\n",
      "Loaded 15872 of 20000 edges\n",
      "Loaded 16128 of 20000 edges\n",
      "Loaded 16384 of 20000 edges\n",
      "Loaded 16640 of 20000 edges\n",
      "Loaded 16896 of 20000 edges\n",
      "Loaded 17152 of 20000 edges\n",
      "Loaded 17408 of 20000 edges\n",
      "Loaded 17664 of 20000 edges\n",
      "Loaded 17920 of 20000 edges\n",
      "Loaded 18176 of 20000 edges\n",
      "Loaded 18432 of 20000 edges\n",
      "Loaded 18688 of 20000 edges\n",
      "Loaded 18944 of 20000 edges\n",
      "Loaded 19200 of 20000 edges\n",
      "Loaded 19456 of 20000 edges\n",
      "Loaded 19712 of 20000 edges\n",
      "Loaded 19968 of 20000 edges\n",
      "Loaded 20000 of 20000 edges\n",
      "\u001b[1;3;38;2;0;135;107m[INFO] Successfully loaded 20000 edges 'shareholding' for edge type 'hold_share'\u001b[0m\n",
      "\u001b[1;3;38;2;0;120;215m[INFO] Parsed 1000 edges 'shareholding' for edge type 'reletive_with' in memory\u001b[0m\n"
     ]
    },
    {
     "data": {
      "application/vnd.jupyter.widget-view+json": {
       "model_id": "70aeccd996b84b77a22365909a66701c",
       "version_major": 2,
       "version_minor": 0
      },
      "text/plain": [
       "Loading Edges:   0%|          | 0/4 [00:00<?, ?it/s]"
      ]
     },
     "metadata": {},
     "output_type": "display_data"
    },
    {
     "name": "stdout",
     "output_type": "stream",
     "text": [
      "Loaded 256 of 1000 edges\n",
      "Loaded 512 of 1000 edges\n",
      "Loaded 768 of 1000 edges\n",
      "Loaded 1000 of 1000 edges\n",
      "\u001b[1;3;38;2;0;135;107m[INFO] Successfully loaded 1000 edges 'shareholding' for edge type 'reletive_with'\u001b[0m\n"
     ]
    }
   ],
   "source": [
    "%ng_load  --source https://github.com/wey-gu/awesome-graph-dataset/raw/main/datasets/shareholding/tiny/person.csv --tag person --vid 0 --props 1:name --space shareholding\n",
    "%ng_load  --source https://github.com/wey-gu/awesome-graph-dataset/raw/main/datasets/shareholding/tiny/corp.csv --tag corp --vid 0 --props 1:name --space shareholding\n",
    "%ng_load  --source https://github.com/wey-gu/awesome-graph-dataset/raw/main/datasets/shareholding/tiny/person_corp_role.csv --edge role_as --src 0 --dst 1 --props 2:role  --space shareholding\n",
    "%ng_load  --source https://github.com/wey-gu/awesome-graph-dataset/raw/main/datasets/shareholding/tiny/corp_rel.csv --edge is_branch_of --src 0 --dst 1   --space shareholding\n",
    "%ng_load  --source https://github.com/wey-gu/awesome-graph-dataset/raw/main/datasets/shareholding/tiny/corp_share.csv --edge hold_share --src 0 --dst 1 --props 2:share  --space shareholding\n",
    "%ng_load  --source https://github.com/wey-gu/awesome-graph-dataset/raw/main/datasets/shareholding/tiny/person_corp_share.csv --edge hold_share --src 0 --dst 1 --props 2:share  --space shareholding\n",
    "%ng_load  --source https://github.com/wey-gu/awesome-graph-dataset/raw/main/datasets/shareholding/tiny/person_rel.csv --edge reletive_with --src 0 --dst 1 --props 2:degree  --space shareholding"
   ]
  },
  {
   "cell_type": "code",
   "execution_count": 7,
   "id": "080472fc-7e62-44a7-97e8-0b81de23ec87",
   "metadata": {},
   "outputs": [
    {
     "data": {
      "text/html": [
       "\n",
       "        <iframe\n",
       "            width=\"100%\"\n",
       "            height=\"500px\"\n",
       "            src=\"nebulagraph_schema_cell_7_shareholding.html\"\n",
       "            frameborder=\"0\"\n",
       "            allowfullscreen\n",
       "            \n",
       "        ></iframe>\n",
       "        "
      ],
      "text/plain": [
       "<IPython.lib.display.IFrame at 0x14da07050>"
      ]
     },
     "metadata": {},
     "output_type": "display_data"
    },
    {
     "data": {
      "text/plain": [
       "<class 'pyvis.network.Network'> |N|=2 |E|=4"
      ]
     },
     "execution_count": 7,
     "metadata": {},
     "output_type": "execute_result"
    }
   ],
   "source": [
    "%ng_draw_schema"
   ]
  },
  {
   "cell_type": "code",
   "execution_count": 8,
   "id": "1fe8f21d-95e4-4ecb-9339-670bde07f0f2",
   "metadata": {},
   "outputs": [
    {
     "data": {
      "text/html": [
       "<div>\n",
       "<style scoped>\n",
       "    .dataframe tbody tr th:only-of-type {\n",
       "        vertical-align: middle;\n",
       "    }\n",
       "\n",
       "    .dataframe tbody tr th {\n",
       "        vertical-align: top;\n",
       "    }\n",
       "\n",
       "    .dataframe thead th {\n",
       "        text-align: right;\n",
       "    }\n",
       "</style>\n",
       "<table border=\"1\" class=\"dataframe\">\n",
       "  <thead>\n",
       "    <tr style=\"text-align: right;\">\n",
       "      <th></th>\n",
       "      <th>v</th>\n",
       "      <th>e</th>\n",
       "    </tr>\n",
       "  </thead>\n",
       "  <tbody>\n",
       "    <tr>\n",
       "      <th>0</th>\n",
       "      <td>[(\"p_0\" :person{name: \"Kimberly Fuller\"})]</td>\n",
       "      <td>[(\"p_0\")-[:hold_share@0{share: 15.0}]-&gt;(\"c_214\"), (\"p_0\")-[:hold_share@0{share: 4.0}]-&gt;(\"c_860\"), (\"p_0\")-[:reletive_with@0{degree: 63}]-&gt;(\"p_1084\")]</td>\n",
       "    </tr>\n",
       "    <tr>\n",
       "      <th>1</th>\n",
       "      <td>[(\"c_214\" :corp{name: \"Harris, Rocha and Curtis\"}), (\"c_860\" :corp{name: \"Ross-Williams\"}), (\"p_1084\" :person{name: \"Kathleen Roth\"})]</td>\n",
       "      <td>[(\"p_3890\")-[:role_as@0{role: \"Lawyer\"}]-&gt;(\"c_214\"), (\"p_6825\")-[:role_as@0{role: \"Site engineer\"}]-&gt;(\"c_214\"), (\"p_8121\")-[:role_as@0{role: \"Chartered management accountant\"}]-&gt;(\"c_214\"), (\"p_1895\")-[:hold_share@0{share: 4.0}]-&gt;(\"c_214\"), (\"p_2409\")-[:hold_share@0{share: 1.0}]-&gt;(\"c_214\"), (\"p_2644\")-[:hold_share@0{share: 12.0}]-&gt;(\"c_214\"), (\"p_2975\")-[:hold_share@0{share: 8.0}]-&gt;(\"c_214\"), (\"p_3232\")-[:hold_share@0{share: 12.0}]-&gt;(\"c_214\"), (\"p_3356\")-[:hold_share@0{share: 4.0}]-&gt;(\"c_214\"), (\"p_3464\")-[:hold_share@0{share: 13.0}]-&gt;(\"c_214\"), (\"p_3515\")-[:hold_share@0{share: 1.0}]-&gt;(\"c_214\"), (\"p_5703\")-[:hold_share@0{share: 12.0}]-&gt;(\"c_214\"), (\"p_6729\")-[:hold_share@0{share: 14.0}]-&gt;(\"c_214\"), (\"p_6928\")-[:hold_share@0{share: 13.0}]-&gt;(\"c_214\"), (\"p_7229\")-[:hold_share@0{share: 11.0}]-&gt;(\"c_214\"), (\"p_8008\")-[:hold_share@0{share: 2.0}]-&gt;(\"c_214\"), (\"p_8241\")-[:hold_share@0{share: 15.0}]-&gt;(\"c_214\"), (\"p_8340\")-[:hold_share@0{share: 1.0}]-&gt;(\"c_214\"), (\"p_8687\")-[:hold_share@0{share: 13.0}]-&gt;(\"c_214\"), (\"p_9925\")-[:hold_share@0{share: 5.0}]-&gt;(\"c_214\"), (\"p_3095\")-[:role_as@0{role: \"Public relations account executive\"}]-&gt;(\"c_860\"), (\"p_4182\")-[:role_as@0{role: \"'Horticulturist;amenity'\"}]-&gt;(\"c_860\"), (\"p_5385\")-[:role_as@0{role: \"Dietitian\"}]-&gt;(\"c_860\"), (\"p_5765\")-[:role_as@0{role: \"Manufacturing systems engineer\"}]-&gt;(\"c_860\"), (\"p_6875\")-[:role_as@0{role: \"Public affairs consultant\"}]-&gt;(\"c_860\"), (\"p_9277\")-[:role_as@0{role: \"Special educational needs teacher\"}]-&gt;(\"c_860\"), (\"p_1613\")-[:hold_share@0{share: 5.0}]-&gt;(\"c_860\"), (\"p_2121\")-[:hold_share@0{share: 0.0}]-&gt;(\"c_860\"), (\"p_2803\")-[:hold_share@0{share: 11.0}]-&gt;(\"c_860\"), (\"p_3012\")-[:hold_share@0{share: 14.0}]-&gt;(\"c_860\"), (\"p_3020\")-[:hold_share@0{share: 3.0}]-&gt;(\"c_860\"), (\"p_3258\")-[:hold_share@0{share: 3.0}]-&gt;(\"c_860\"), (\"p_3595\")-[:hold_share@0{share: 9.0}]-&gt;(\"c_860\"), (\"p_4113\")-[:hold_share@0{share: 13.0}]-&gt;(\"c_860\"), (\"p_4743\")-[:hold_share@0{share: 3.0}]-&gt;(\"c_860\"), (\"p_5742\")-[:hold_share@0{share: 14.0}]-&gt;(\"c_860\"), (\"p_60\")-[:hold_share@0{share: 0.0}]-&gt;(\"c_860\"), (\"p_7958\")-[:hold_share@0{share: 9.0}]-&gt;(\"c_860\"), (\"p_9704\")-[:hold_share@0{share: 0.0}]-&gt;(\"c_860\"), (\"p_9769\")-[:hold_share@0{share: 7.0}]-&gt;(\"c_860\"), (\"p_9954\")-[:hold_share@0{share: 2.0}]-&gt;(\"c_860\"), (\"p_1084\")-[:hold_share@0{share: 11.0}]-&gt;(\"c_233\"), (\"p_1084\")-[:hold_share@0{share: 5.0}]-&gt;(\"c_514\")]</td>\n",
       "    </tr>\n",
       "    <tr>\n",
       "      <th>2</th>\n",
       "      <td>[(\"p_3890\" :person{name: \"Robert Walker\"}), (\"p_6825\" :person{name: \"Amber Barker\"}), (\"p_8121\" :person{name: \"Eric Rodriguez\"}), (\"p_1895\" :person{name: \"Tina Harrison\"}), (\"p_2409\" :person{name: \"Erika Thomas\"}), (\"p_2644\" :person{name: \"Heidi Massey\"}), (\"p_2975\" :person{name: \"Shelia Kirby\"}), (\"p_3232\" :person{name: \"Erica Ramos\"}), (\"p_3356\" :person{name: \"Sara Allison\"}), (\"p_3464\" :person{name: \"Jonathan Baxter\"}), (\"p_3515\" :person{name: \"Shane Johnson\"}), (\"p_5703\" :person{name: \"Destiny Cain\"}), (\"p_6729\" :person{name: \"Aimee Malone\"}), (\"p_6928\" :person{name: \"Alejandro Hubbard\"}), (\"p_7229\" :person{name: \"Julie Mendoza\"}), (\"p_8008\" :person{name: \"Steven Smith\"}), (\"p_8241\" :person{name: \"Julie Rivera\"}), (\"p_8340\" :person{name: \"James Perez\"}), (\"p_8687\" :person{name: \"Brad Garner\"}), (\"p_9925\" :person{name: \"Jonathan Dean\"}), (\"p_3095\" :person{name: \"Sabrina Black\"}), (\"p_4182\" :person{name: \"Daniel Gross\"}), (\"p_5385\" :person{name: \"Howard Jimenez\"}), (\"p_5765\" :person{name: \"Pamela Robinson\"}), (\"p_6875\" :person{name: \"Jeffrey Curry\"}), (\"p_9277\" :person{name: \"Charles Tran\"}), (\"p_1613\" :person{name: \"James Robinson\"}), (\"p_2121\" :person{name: \"Hunter Miranda\"}), (\"p_2803\" :person{name: \"Robert Smith\"}), (\"p_3012\" :person{name: \"Emily Lopez\"}), (\"p_3020\" :person{name: \"Christine Shah DDS\"}), (\"p_3258\" :person{name: \"Philip Ross\"}), (\"p_3595\" :person{name: \"Michael Bush\"}), (\"p_4113\" :person{name: \"Joe Mcpherson\"}), (\"p_4743\" :person{name: \"Anthony Schultz\"}), (\"p_5742\" :person{name: \"Richard Macdonald\"}), (\"p_60\" :person{name: \"Jeffrey Simpson\"}), (\"p_7958\" :person{name: \"Melissa Scott\"}), (\"p_9704\" :person{name: \"Allen Glenn\"}), (\"p_9769\" :person{name: \"Erica Sanchez\"}), (\"p_9954\" :person{name: \"Edward Brooks\"}), (\"c_233\" :corp{name: \"Howard-Anderson\"}), (\"c_514\" :corp{name: \"Sanchez-Smith\"})]</td>\n",
       "      <td>[(\"p_3890\")-[:role_as@0{role: \"Science writer\"}]-&gt;(\"c_797\"), (\"p_3890\")-[:hold_share@0{share: 7.0}]-&gt;(\"c_153\"), (\"p_3890\")-[:hold_share@0{share: 12.0}]-&gt;(\"c_916\"), (\"p_6825\")-[:hold_share@0{share: 15.0}]-&gt;(\"c_191\"), (\"p_6825\")-[:hold_share@0{share: 5.0}]-&gt;(\"c_55\"), (\"p_6825\")-[:hold_share@0{share: 13.0}]-&gt;(\"c_640\"), (\"p_8121\")-[:hold_share@0{share: 6.0}]-&gt;(\"c_457\"), (\"p_8121\")-[:hold_share@0{share: 6.0}]-&gt;(\"c_865\"), (\"p_8121\")-[:reletive_with@0{degree: 77}]-&gt;(\"p_6296\"), (\"p_1895\")-[:hold_share@0{share: 14.0}]-&gt;(\"c_112\"), (\"p_1895\")-[:hold_share@0{share: 15.0}]-&gt;(\"c_840\"), (\"p_1895\")-[:hold_share@0{share: 7.0}]-&gt;(\"c_978\"), (\"p_2409\")-[:hold_share@0{share: 13.0}]-&gt;(\"c_58\"), (\"p_2409\")-[:hold_share@0{share: 0.0}]-&gt;(\"c_876\"), (\"p_2644\")-[:role_as@0{role: \"Clinical molecular geneticist\"}]-&gt;(\"c_759\"), (\"p_4367\")-[:reletive_with@0{degree: 69}]-&gt;(\"p_2644\"), (\"p_2644\")-[:hold_share@0{share: 13.0}]-&gt;(\"c_447\"), (\"p_2644\")-[:hold_share@0{share: 11.0}]-&gt;(\"c_491\"), (\"p_2644\")-[:hold_share@0{share: 15.0}]-&gt;(\"c_678\"), (\"p_2644\")-[:hold_share@0{share: 2.0}]-&gt;(\"c_773\"), (\"p_2644\")-[:hold_share@0{share: 6.0}]-&gt;(\"c_949\"), (\"p_2975\")-[:hold_share@0{share: 4.0}]-&gt;(\"c_661\"), (\"p_2975\")-[:hold_share@0{share: 8.0}]-&gt;(\"c_927\"), (\"p_3232\")-[:hold_share@0{share: 1.0}]-&gt;(\"c_223\"), (\"p_3464\")-[:hold_share@0{share: 5.0}]-&gt;(\"c_18\"), (\"p_3464\")-[:hold_share@0{share: 2.0}]-&gt;(\"c_737\"), (\"p_3515\")-[:role_as@0{role: \"Physiological scientist\"}]-&gt;(\"c_67\"), (\"p_3515\")-[:role_as@0{role: \"Quantity surveyor\"}]-&gt;(\"c_783\"), (\"p_3515\")-[:hold_share@0{share: 3.0}]-&gt;(\"c_425\"), (\"p_3515\")-[:hold_share@0{share: 2.0}]-&gt;(\"c_465\"), (\"p_3515\")-[:hold_share@0{share: 12.0}]-&gt;(\"c_509\"), (\"p_3515\")-[:hold_share@0{share: 9.0}]-&gt;(\"c_568\"), (\"p_3515\")-[:hold_share@0{share: 7.0}]-&gt;(\"c_580\"), (\"p_3515\")-[:reletive_with@0{degree: 54}]-&gt;(\"p_4607\"), (\"p_5703\")-[:role_as@0{role: \"'Teacher;music'\"}]-&gt;(\"c_735\"), (\"p_5703\")-[:role_as@0{role: \"Customer service manager\"}]-&gt;(\"c_820\"), (\"p_5703\")-[:hold_share@0{share: 10.0}]-&gt;(\"c_203\"), (\"p_5703\")-[:hold_share@0{share: 13.0}]-&gt;(\"c_369\"), (\"p_5703\")-[:hold_share@0{share: 11.0}]-&gt;(\"c_517\"), (\"p_5703\")-[:reletive_with@0{degree: 48}]-&gt;(\"p_3519\"), (\"p_6729\")-[:hold_share@0{share: 13.0}]-&gt;(\"c_312\"), (\"p_6729\")-[:hold_share@0{share: 14.0}]-&gt;(\"c_354\"), (\"p_6729\")-[:hold_share@0{share: 12.0}]-&gt;(\"c_599\"), (\"p_6729\")-[:hold_share@0{share: 11.0}]-&gt;(\"c_965\"), (\"p_6928\")-[:role_as@0{role: \"'Engineer;materials'\"}]-&gt;(\"c_745\"), (\"p_6928\")-[:hold_share@0{share: 4.0}]-&gt;(\"c_892\"), (\"p_6928\")-[:hold_share@0{share: 2.0}]-&gt;(\"c_9\"), (\"p_8573\")-[:reletive_with@0{degree: 62}]-&gt;(\"p_7229\"), (\"p_7229\")-[:hold_share@0{share: 3.0}]-&gt;(\"c_878\"), (\"p_7229\")-[:hold_share@0{share: 6.0}]-&gt;(\"c_965\"), (\"p_8008\")-[:role_as@0{role: \"Ranger/warden\"}]-&gt;(\"c_981\"), (\"p_8008\")-[:hold_share@0{share: 3.0}]-&gt;(\"c_769\"), (\"p_8008\")-[:reletive_with@0{degree: 81}]-&gt;(\"p_4062\"), (\"p_8241\")-[:hold_share@0{share: 6.0}]-&gt;(\"c_868\"), (\"p_8340\")-[:hold_share@0{share: 11.0}]-&gt;(\"c_586\"), (\"p_8340\")-[:hold_share@0{share: 9.0}]-&gt;(\"c_93\"), (\"p_8340\")-[:reletive_with@0{degree: 75}]-&gt;(\"p_2173\"), (\"p_8687\")-[:hold_share@0{share: 14.0}]-&gt;(\"c_165\"), (\"p_8687\")-[:hold_share@0{share: 0.0}]-&gt;(\"c_479\"), (\"p_8687\")-[:hold_share@0{share: 13.0}]-&gt;(\"c_84\"), (\"p_3095\")-[:hold_share@0{share: 2.0}]-&gt;(\"c_405\"), (\"p_3095\")-[:hold_share@0{share: 12.0}]-&gt;(\"c_685\"), (\"p_4182\")-[:hold_share@0{share: 6.0}]-&gt;(\"c_448\"), (\"p_4182\")-[:hold_share@0{share: 13.0}]-&gt;(\"c_899\"), (\"p_5385\")-[:hold_share@0{share: 8.0}]-&gt;(\"c_654\"), (\"p_5385\")-[:hold_share@0{share: 1.0}]-&gt;(\"c_670\"), (\"p_5765\")-[:hold_share@0{share: 11.0}]-&gt;(\"c_337\"), (\"p_5765\")-[:hold_share@0{share: 15.0}]-&gt;(\"c_436\"), (\"p_6875\")-[:role_as@0{role: \"Community pharmacist\"}]-&gt;(\"c_962\"), (\"p_6875\")-[:hold_share@0{share: 3.0}]-&gt;(\"c_987\"), (\"p_9277\")-[:role_as@0{role: \"'Nurse;adult'\"}]-&gt;(\"c_857\"), (\"p_9277\")-[:hold_share@0{share: 15.0}]-&gt;(\"c_66\"), (\"p_1613\")-[:role_as@0{role: \"Public house manager\"}]-&gt;(\"c_802\"), (\"p_1613\")-[:hold_share@0{share: 3.0}]-&gt;(\"c_234\"), (\"p_1613\")-[:hold_share@0{share: 11.0}]-&gt;(\"c_459\"), (\"p_1613\")-[:hold_share@0{share: 0.0}]-&gt;(\"c_560\"), (\"p_1613\")-[:hold_share@0{share: 15.0}]-&gt;(\"c_656\"), (\"p_1613\")-[:hold_share@0{share: 1.0}]-&gt;(\"c_940\"), (\"p_2121\")-[:hold_share@0{share: 14.0}]-&gt;(\"c_296\"), (\"p_2803\")-[:role_as@0{role: \"Forensic scientist\"}]-&gt;(\"c_391\"), (\"p_3012\")-[:role_as@0{role: \"Computer games developer\"}]-&gt;(\"c_159\"), (\"p_3012\")-[:hold_share@0{share: 15.0}]-&gt;(\"c_189\"), (\"p_3012\")-[:hold_share@0{share: 1.0}]-&gt;(\"c_486\"), (\"p_3012\")-[:hold_share@0{share: 7.0}]-&gt;(\"c_862\"), (\"p_3012\")-[:reletive_with@0{degree: 61}]-&gt;(\"p_89\"), (\"p_3020\")-[:hold_share@0{share: 2.0}]-&gt;(\"c_325\"), (\"p_3020\")-[:hold_share@0{share: 14.0}]-&gt;(\"c_622\"), (\"p_3258\")-[:hold_share@0{share: 0.0}]-&gt;(\"c_668\"), (\"p_3258\")-[:hold_share@0{share: 9.0}]-&gt;(\"c_766\"), (\"p_3595\")-[:hold_share@0{share: 14.0}]-&gt;(\"c_209\"), (\"p_3595\")-[:hold_share@0{share: 5.0}]-&gt;(\"c_743\"), (\"p_4113\")-[:role_as@0{role: \"Research scientist (maths)\"}]-&gt;(\"c_480\"), (\"p_4113\")-[:hold_share@0{share: 14.0}]-&gt;(\"c_433\"), (\"p_4113\")-[:hold_share@0{share: 5.0}]-&gt;(\"c_968\"), (\"p_5742\")-[:role_as@0{role: \"Museum/gallery exhibitions officer\"}]-&gt;(\"c_8\"), (\"p_5742\")-[:hold_share@0{share: 7.0}]-&gt;(\"c_150\"), (\"p_5742\")-[:hold_share@0{share: 14.0}]-&gt;(\"c_349\"), (\"p_5742\")-[:hold_share@0{share: 1.0}]-&gt;(\"c_493\"), (\"p_5742\")-[:hold_share@0{share: 14.0}]-&gt;(\"c_859\"), (\"p_5742\")-[:hold_share@0{share: 3.0}]-&gt;(\"c_934\"), ...]</td>\n",
       "    </tr>\n",
       "    <tr>\n",
       "      <th>3</th>\n",
       "      <td>[(\"c_797\" :corp{name: \"Meza, Hernandez and Kennedy\"}), (\"c_153\" :corp{name: \"Smith, Anthony and Melton\"}), (\"c_916\" :corp{name: \"Obrien and Sons\"}), (\"c_191\" :corp{name: \"Johns-Hardy\"}), (\"c_55\" :corp{name: \"Williams-Patel\"}), (\"c_640\" :corp{name: \"Mills, Bates and Mcdonald\"}), (\"c_457\" :corp{name: \"Medina-Bates\"}), (\"c_865\" :corp{name: \"Sanchez, Taylor and Clark\"}), (\"p_6296\" :person{name: \"Rhonda Braun\"}), (\"c_112\" :corp{name: \"Martin, Clements and Pruitt\"}), (\"c_840\" :corp{name: \"Hill-Delgado\"}), (\"c_978\" :corp{name: \"Frazier, Rodriguez and Donaldson\"}), (\"c_58\" :corp{name: \"Swanson, Harding and Cruz\"}), (\"c_876\" :corp{name: \"Hughes Ltd\"}), (\"c_759\" :corp{name: \"Waters Inc\"}), (\"p_4367\" :person{name: \"Michael Peters\"}), (\"c_447\" :corp{name: \"Robinson, Sullivan and Yang\"}), (\"c_491\" :corp{name: \"James-Taylor\"}), (\"c_678\" :corp{name: \"Murphy-Jackson\"}), (\"c_773\" :corp{name: \"Skinner Inc\"}), (\"c_949\" :corp{name: \"Dean Inc\"}), (\"c_661\" :corp{name: \"Charles LLC\"}), (\"c_927\" :corp{name: \"Beard Ltd\"}), (\"c_223\" :corp{name: \"Walters and Sons\"}), (\"c_18\" :corp{name: \"Williams-Weaver\"}), (\"c_737\" :corp{name: \"Newman, Byrd and Lynch\"}), (\"c_67\" :corp{name: \"Cole-Odom\"}), (\"c_783\" :corp{name: \"Glass, Lopez and Lee\"}), (\"c_425\" :corp{name: \"Taylor-Waters\"}), (\"c_465\" :corp{name: \"Wilson-Burns\"}), (\"c_509\" :corp{name: \"Todd, Boone and Gonzales\"}), (\"c_568\" :corp{name: \"Ponce, Bates and Cummings\"}), (\"c_580\" :corp{name: \"Hogan-Williams\"}), (\"p_4607\" :person{name: \"Erica Crawford\"}), (\"c_735\" :corp{name: \"Wood, Good and Johnson\"}), (\"c_820\" :corp{name: \"Cline LLC\"}), (\"c_203\" :corp{name: \"Myers, Valdez and Carr\"}), (\"c_369\" :corp{name: \"Miller, Wright and Jenkins\"}), (\"c_517\" :corp{name: \"Wright-Gonzalez\"}), (\"p_3519\" :person{name: \"Jason Smith\"}), (\"c_312\" :corp{name: \"Shannon-Hernandez\"}), (\"c_354\" :corp{name: \"Nichols, Santos and Hickman\"}), (\"c_599\" :corp{name: \"Jackson, Owens and Nelson\"}), (\"c_965\" :corp{name: \"Lopez, Leonard and Morales\"}), (\"c_745\" :corp{name: \"Lara, Dorsey and Reynolds\"}), (\"c_892\" :corp{name: \"Lawson, Williams and Nunez\"}), (\"c_9\" :corp{name: \"Hinton LLC\"}), (\"p_8573\" :person{name: \"Leslie Warren\"}), (\"c_878\" :corp{name: \"Bell-Johnson\"}), (\"c_981\" :corp{name: \"Sanchez-Alexander\"}), (\"c_769\" :corp{name: \"Ramirez and Sons\"}), (\"p_4062\" :person{name: \"Caitlin Hebert\"}), (\"c_868\" :corp{name: \"Perkins, Church and Garcia\"}), (\"c_586\" :corp{name: \"Moore-Schroeder\"}), (\"c_93\" :corp{name: \"Reid-Newton\"}), (\"p_2173\" :person{name: \"Sandra Rodgers\"}), (\"c_165\" :corp{name: \"Gordon-Wallace\"}), (\"c_479\" :corp{name: \"Gallegos-Hickman\"}), (\"c_84\" :corp{name: \"Dominguez, Gilmore and Carson\"}), (\"c_405\" :corp{name: \"Singleton, Rodgers and Kim\"}), (\"c_685\" :corp{name: \"Olson, Wright and Gibbs\"}), (\"c_448\" :corp{name: \"Singh-Flynn\"}), (\"c_899\" :corp{name: \"Johnson Ltd\"}), (\"c_654\" :corp{name: \"Rocha, Hale and Le\"}), (\"c_670\" :corp{name: \"Peters LLC\"}), (\"c_337\" :corp{name: \"Rodriguez, Padilla and Alexander\"}), (\"c_436\" :corp{name: \"Gregory-Bailey\"}), (\"c_962\" :corp{name: \"Flores-White\"}), (\"c_987\" :corp{name: \"Garcia-Potts\"}), (\"c_857\" :corp{name: \"Ayala LLC\"}), (\"c_66\" :corp{name: \"Trujillo-Kennedy\"}), (\"c_802\" :corp{name: \"Hartman, Hall and Frazier\"}), (\"c_234\" :corp{name: \"Pena-Martinez\"}), (\"c_459\" :corp{name: \"Jensen, Webb and Garrett\"}), (\"c_560\" :corp{name: \"Massey-Walsh\"}), (\"c_656\" :corp{name: \"Johnson LLC\"}), (\"c_940\" :corp{name: \"Lopez-Lin\"}), (\"c_296\" :corp{name: \"Roach, Martin and Bush\"}), (\"c_391\" :corp{name: \"Hansen-Bowers\"}), (\"c_159\" :corp{name: \"Salazar, Allen and Allen\"}), (\"c_189\" :corp{name: \"Wilson and Sons\"}), (\"c_486\" :corp{name: \"Powell LLC\"}), (\"c_862\" :corp{name: \"Gonzales-Hicks\"}), (\"p_89\" :person{name: \"Austin Ballard\"}), (\"c_325\" :corp{name: \"Mcdaniel Ltd\"}), (\"c_622\" :corp{name: \"Dyer, King and Martin\"}), (\"c_668\" :corp{name: \"Franklin-Sanchez\"}), (\"c_766\" :corp{name: \"Castillo-Berry\"}), (\"c_209\" :corp{name: \"Jones, Martinez and Ortega\"}), (\"c_743\" :corp{name: \"Smith, Phillips and Allen\"}), (\"c_480\" :corp{name: \"Cline, Carson and Valdez\"}), (\"c_433\" :corp{name: \"Swanson-Yu\"}), (\"c_968\" :corp{name: \"Smith Group\"}), (\"c_8\" :corp{name: \"Thompson Group\"}), (\"c_150\" :corp{name: \"Mcpherson-Martinez\"}), (\"c_349\" :corp{name: \"Gilmore, Bradley and Taylor\"}), (\"c_493\" :corp{name: \"Davis LLC\"}), (\"c_859\" :corp{name: \"Smith LLC\"}), (\"c_934\" :corp{name: \"Salinas, Bender and Taylor\"}), (\"c_537\" :corp{name: \"Byrd LLC\"}), ...]</td>\n",
       "      <td>[(\"p_3519\")-[:hold_share@0{share: 10.0}]-&gt;(\"c_447\"), (\"c_354\")-[:hold_share@0{share: 7.0}]-&gt;(\"c_968\"), (\"p_8573\")-[:role_as@0{role: \"Race relations officer\"}]-&gt;(\"c_607\"), (\"p_2173\")-[:role_as@0{role: \"Environmental health practitioner\"}]-&gt;(\"c_55\"), (\"c_802\")-[:hold_share@0{share: 3.0}]-&gt;(\"c_640\"), (\"c_968\")-[:is_branch_of@0{}]-&gt;(\"c_978\"), (\"c_806\")-[:is_branch_of@0{}]-&gt;(\"c_491\"), (\"p_1053\")-[:hold_share@0{share: 1.0}]-&gt;(\"c_75\"), (\"p_113\")-[:hold_share@0{share: 12.0}]-&gt;(\"c_447\"), (\"p_2565\")-[:hold_share@0{share: 15.0}]-&gt;(\"c_509\"), (\"p_4842\")-[:hold_share@0{share: 13.0}]-&gt;(\"c_566\"), (\"p_4842\")-[:hold_share@0{share: 11.0}]-&gt;(\"c_876\"), (\"p_8735\")-[:hold_share@0{share: 1.0}]-&gt;(\"c_987\"), (\"c_796\")-[:is_branch_of@0{}]-&gt;(\"c_967\"), (\"p_2898\")-[:hold_share@0{share: 4.0}]-&gt;(\"c_599\"), (\"p_3679\")-[:role_as@0{role: \"Claims inspector/assessor\"}]-&gt;(\"c_868\"), (\"p_5079\")-[:hold_share@0{share: 8.0}]-&gt;(\"c_769\"), (\"p_99\")-[:role_as@0{role: \"Data scientist\"}]-&gt;(\"c_112\")]</td>\n",
       "    </tr>\n",
       "  </tbody>\n",
       "</table>\n",
       "</div>"
      ],
      "text/plain": [
       "                                                                                                                                                                                                                                                                                                                                                                                                                                                                                                                                                                                                                                                                                                                                                                                                                                                                                                                                                                                                                                                                                                                                                                                                                                                                                                                                                                                                                                                                                                                                                                                                                                                                                                                                                                                                                                                                                                                                                                                                                                                                                                                                                                                                                                                                                                                                                                                                                                                                                                                                                                                                                                                                                                                                                                                                                                                                                                                                                                                                                                                                                                                                                                                                                                                                                                                                                                                                                                                                                                                                                                                                                                                                                                                                                                                                                                                                                                                                                                                                                                                                                                                                                                                                                                                                                                                                                                                                                                                                                                                                                                                                  v                                                                                                                                                                                                                                                                                                                                                                                                                                                                                                                                                                                                                                                                                                                                                                                                                                                                                                                                                                                                                                                                                                                                                                                                                                                                                                                                                                                                                                                                                                                                                                                                                                                                                                                                                                                                                                                                                                                                                                                                                                                                                                                                                                                                                                                                                                                                                                                                                                                                                                                                                                                                                                                                                                                                                                                                                                                                                                                                                                                                                                                                                                                                                                                                                                                                                                                                                                                                                                                                                                                                                                                                                                                                                                                                                                                                                                                                                                                                                                                                                                                                                                                                                                                                                                                                                                                                                                                                                                                                                                                                                                                                                                                                                                                                                                                                                                                                                                                                                                                                                                                                                                                                                                                                                                                                                                                                                                                                                                                                                                                                                                                                                  e\n",
       "0                                                                                                                                                                                                                                                                                                                                                                                                                                                                                                                                                                                                                                                                                                                                                                                                                                                                                                                                                                                                                                                                                                                                                                                                                                                                                                                                                                                                                                                                                                                                                                                                                                                                                                                                                                                                                                                                                                                                                                                                                                                                                                                                                                                                                                                                                                                                                                                                                                                                                                                                                                                                                                                                                                                                                                                                                                                                                                                                                                                                                                                                                                                                                                                                                                                                                                                                                                                                                                                                                                                                                                                                                                                                                                                                                                                                                                                                                                                                                                                                                                                                                                                                                                                                                                                                                                                                                                                                                                                                                                                                                        [(\"p_0\" :person{name: \"Kimberly Fuller\"})]                                                                                                                                                                                                                                                                                                                                                                                                                                                                                                                                                                                                                                                                                                                                                                                                                                                                                                                                                                                                                                                                                                                                                                                                                                                                                                                                                                                                                                                                                                                                                                                                                                                                                                                                                                                                                                                                                                                                                                                                                                                                                                                                                                                                                                                                                                                                                                                                                                                                                                                                                                                                                                                                                                                                                                                                                                                                                                                                                                                                                                                                                                                                                                                                                                                                                                                                                                                                                                                                                                                                                                                                                                                                                                                                                                                                                                                                                                                                                                                                                                                                                                                                                                                                                                                                                                                                                                                                                                                                                                                                                                                                                                                                                                                                                                                                                                                                                                                                                                                                                                                                                                                                                                                                                                                                                                                                                                                                                                                              [(\"p_0\")-[:hold_share@0{share: 15.0}]->(\"c_214\"), (\"p_0\")-[:hold_share@0{share: 4.0}]->(\"c_860\"), (\"p_0\")-[:reletive_with@0{degree: 63}]->(\"p_1084\")]\n",
       "1                                                                                                                                                                                                                                                                                                                                                                                                                                                                                                                                                                                                                                                                                                                                                                                                                                                                                                                                                                                                                                                                                                                                                                                                                                                                                                                                                                                                                                                                                                                                                                                                                                                                                                                                                                                                                                                                                                                                                                                                                                                                                                                                                                                                                                                                                                                                                                                                                                                                                                                                                                                                                                                                                                                                                                                                                                                                                                                                                                                                                                                                                                                                                                                                                                                                                                                                                                                                                                                                                                                                                                                                                                                                                                                                                                                                                                                                                                                                                                                                                                                                                                                                                                                                                                                                                                                                                                                                                                                            [(\"c_214\" :corp{name: \"Harris, Rocha and Curtis\"}), (\"c_860\" :corp{name: \"Ross-Williams\"}), (\"p_1084\" :person{name: \"Kathleen Roth\"})]                                                                                                                                                                                                                                                                                                                                                                                                                                                                                                                                                                                                                                                                                                                                                                                                                                                                                                                                                                                                                                                                                                                                                                                                                                                                                                                                                                                                                                                                                                                                                                                                                                                                                                                                                                                                                                                                                                                                                                                                                                                                                                                                                                                                                                                                                                                                                                                                                                                                                                                                                                                                                                                                                                                                                                                                                                                                                                                                                                                                                                                                                                                                                      [(\"p_3890\")-[:role_as@0{role: \"Lawyer\"}]->(\"c_214\"), (\"p_6825\")-[:role_as@0{role: \"Site engineer\"}]->(\"c_214\"), (\"p_8121\")-[:role_as@0{role: \"Chartered management accountant\"}]->(\"c_214\"), (\"p_1895\")-[:hold_share@0{share: 4.0}]->(\"c_214\"), (\"p_2409\")-[:hold_share@0{share: 1.0}]->(\"c_214\"), (\"p_2644\")-[:hold_share@0{share: 12.0}]->(\"c_214\"), (\"p_2975\")-[:hold_share@0{share: 8.0}]->(\"c_214\"), (\"p_3232\")-[:hold_share@0{share: 12.0}]->(\"c_214\"), (\"p_3356\")-[:hold_share@0{share: 4.0}]->(\"c_214\"), (\"p_3464\")-[:hold_share@0{share: 13.0}]->(\"c_214\"), (\"p_3515\")-[:hold_share@0{share: 1.0}]->(\"c_214\"), (\"p_5703\")-[:hold_share@0{share: 12.0}]->(\"c_214\"), (\"p_6729\")-[:hold_share@0{share: 14.0}]->(\"c_214\"), (\"p_6928\")-[:hold_share@0{share: 13.0}]->(\"c_214\"), (\"p_7229\")-[:hold_share@0{share: 11.0}]->(\"c_214\"), (\"p_8008\")-[:hold_share@0{share: 2.0}]->(\"c_214\"), (\"p_8241\")-[:hold_share@0{share: 15.0}]->(\"c_214\"), (\"p_8340\")-[:hold_share@0{share: 1.0}]->(\"c_214\"), (\"p_8687\")-[:hold_share@0{share: 13.0}]->(\"c_214\"), (\"p_9925\")-[:hold_share@0{share: 5.0}]->(\"c_214\"), (\"p_3095\")-[:role_as@0{role: \"Public relations account executive\"}]->(\"c_860\"), (\"p_4182\")-[:role_as@0{role: \"'Horticulturist;amenity'\"}]->(\"c_860\"), (\"p_5385\")-[:role_as@0{role: \"Dietitian\"}]->(\"c_860\"), (\"p_5765\")-[:role_as@0{role: \"Manufacturing systems engineer\"}]->(\"c_860\"), (\"p_6875\")-[:role_as@0{role: \"Public affairs consultant\"}]->(\"c_860\"), (\"p_9277\")-[:role_as@0{role: \"Special educational needs teacher\"}]->(\"c_860\"), (\"p_1613\")-[:hold_share@0{share: 5.0}]->(\"c_860\"), (\"p_2121\")-[:hold_share@0{share: 0.0}]->(\"c_860\"), (\"p_2803\")-[:hold_share@0{share: 11.0}]->(\"c_860\"), (\"p_3012\")-[:hold_share@0{share: 14.0}]->(\"c_860\"), (\"p_3020\")-[:hold_share@0{share: 3.0}]->(\"c_860\"), (\"p_3258\")-[:hold_share@0{share: 3.0}]->(\"c_860\"), (\"p_3595\")-[:hold_share@0{share: 9.0}]->(\"c_860\"), (\"p_4113\")-[:hold_share@0{share: 13.0}]->(\"c_860\"), (\"p_4743\")-[:hold_share@0{share: 3.0}]->(\"c_860\"), (\"p_5742\")-[:hold_share@0{share: 14.0}]->(\"c_860\"), (\"p_60\")-[:hold_share@0{share: 0.0}]->(\"c_860\"), (\"p_7958\")-[:hold_share@0{share: 9.0}]->(\"c_860\"), (\"p_9704\")-[:hold_share@0{share: 0.0}]->(\"c_860\"), (\"p_9769\")-[:hold_share@0{share: 7.0}]->(\"c_860\"), (\"p_9954\")-[:hold_share@0{share: 2.0}]->(\"c_860\"), (\"p_1084\")-[:hold_share@0{share: 11.0}]->(\"c_233\"), (\"p_1084\")-[:hold_share@0{share: 5.0}]->(\"c_514\")]\n",
       "2                                                                                                                                                                                                                                                                                                                                                                                                                                                                                                                                                                                                                                                                                                                                                                                                                                                                                                                                                                                                                                                                                                                                                                                                                                                                                                                                                                                                                                                                                                                                                                                                                                                                                                                                                                                                                                                                                                                                                                                                                                                                                                                                                                                                                                                                                                                                                                                                                                                                                                                                                                                                                                                                               [(\"p_3890\" :person{name: \"Robert Walker\"}), (\"p_6825\" :person{name: \"Amber Barker\"}), (\"p_8121\" :person{name: \"Eric Rodriguez\"}), (\"p_1895\" :person{name: \"Tina Harrison\"}), (\"p_2409\" :person{name: \"Erika Thomas\"}), (\"p_2644\" :person{name: \"Heidi Massey\"}), (\"p_2975\" :person{name: \"Shelia Kirby\"}), (\"p_3232\" :person{name: \"Erica Ramos\"}), (\"p_3356\" :person{name: \"Sara Allison\"}), (\"p_3464\" :person{name: \"Jonathan Baxter\"}), (\"p_3515\" :person{name: \"Shane Johnson\"}), (\"p_5703\" :person{name: \"Destiny Cain\"}), (\"p_6729\" :person{name: \"Aimee Malone\"}), (\"p_6928\" :person{name: \"Alejandro Hubbard\"}), (\"p_7229\" :person{name: \"Julie Mendoza\"}), (\"p_8008\" :person{name: \"Steven Smith\"}), (\"p_8241\" :person{name: \"Julie Rivera\"}), (\"p_8340\" :person{name: \"James Perez\"}), (\"p_8687\" :person{name: \"Brad Garner\"}), (\"p_9925\" :person{name: \"Jonathan Dean\"}), (\"p_3095\" :person{name: \"Sabrina Black\"}), (\"p_4182\" :person{name: \"Daniel Gross\"}), (\"p_5385\" :person{name: \"Howard Jimenez\"}), (\"p_5765\" :person{name: \"Pamela Robinson\"}), (\"p_6875\" :person{name: \"Jeffrey Curry\"}), (\"p_9277\" :person{name: \"Charles Tran\"}), (\"p_1613\" :person{name: \"James Robinson\"}), (\"p_2121\" :person{name: \"Hunter Miranda\"}), (\"p_2803\" :person{name: \"Robert Smith\"}), (\"p_3012\" :person{name: \"Emily Lopez\"}), (\"p_3020\" :person{name: \"Christine Shah DDS\"}), (\"p_3258\" :person{name: \"Philip Ross\"}), (\"p_3595\" :person{name: \"Michael Bush\"}), (\"p_4113\" :person{name: \"Joe Mcpherson\"}), (\"p_4743\" :person{name: \"Anthony Schultz\"}), (\"p_5742\" :person{name: \"Richard Macdonald\"}), (\"p_60\" :person{name: \"Jeffrey Simpson\"}), (\"p_7958\" :person{name: \"Melissa Scott\"}), (\"p_9704\" :person{name: \"Allen Glenn\"}), (\"p_9769\" :person{name: \"Erica Sanchez\"}), (\"p_9954\" :person{name: \"Edward Brooks\"}), (\"c_233\" :corp{name: \"Howard-Anderson\"}), (\"c_514\" :corp{name: \"Sanchez-Smith\"})]  [(\"p_3890\")-[:role_as@0{role: \"Science writer\"}]->(\"c_797\"), (\"p_3890\")-[:hold_share@0{share: 7.0}]->(\"c_153\"), (\"p_3890\")-[:hold_share@0{share: 12.0}]->(\"c_916\"), (\"p_6825\")-[:hold_share@0{share: 15.0}]->(\"c_191\"), (\"p_6825\")-[:hold_share@0{share: 5.0}]->(\"c_55\"), (\"p_6825\")-[:hold_share@0{share: 13.0}]->(\"c_640\"), (\"p_8121\")-[:hold_share@0{share: 6.0}]->(\"c_457\"), (\"p_8121\")-[:hold_share@0{share: 6.0}]->(\"c_865\"), (\"p_8121\")-[:reletive_with@0{degree: 77}]->(\"p_6296\"), (\"p_1895\")-[:hold_share@0{share: 14.0}]->(\"c_112\"), (\"p_1895\")-[:hold_share@0{share: 15.0}]->(\"c_840\"), (\"p_1895\")-[:hold_share@0{share: 7.0}]->(\"c_978\"), (\"p_2409\")-[:hold_share@0{share: 13.0}]->(\"c_58\"), (\"p_2409\")-[:hold_share@0{share: 0.0}]->(\"c_876\"), (\"p_2644\")-[:role_as@0{role: \"Clinical molecular geneticist\"}]->(\"c_759\"), (\"p_4367\")-[:reletive_with@0{degree: 69}]->(\"p_2644\"), (\"p_2644\")-[:hold_share@0{share: 13.0}]->(\"c_447\"), (\"p_2644\")-[:hold_share@0{share: 11.0}]->(\"c_491\"), (\"p_2644\")-[:hold_share@0{share: 15.0}]->(\"c_678\"), (\"p_2644\")-[:hold_share@0{share: 2.0}]->(\"c_773\"), (\"p_2644\")-[:hold_share@0{share: 6.0}]->(\"c_949\"), (\"p_2975\")-[:hold_share@0{share: 4.0}]->(\"c_661\"), (\"p_2975\")-[:hold_share@0{share: 8.0}]->(\"c_927\"), (\"p_3232\")-[:hold_share@0{share: 1.0}]->(\"c_223\"), (\"p_3464\")-[:hold_share@0{share: 5.0}]->(\"c_18\"), (\"p_3464\")-[:hold_share@0{share: 2.0}]->(\"c_737\"), (\"p_3515\")-[:role_as@0{role: \"Physiological scientist\"}]->(\"c_67\"), (\"p_3515\")-[:role_as@0{role: \"Quantity surveyor\"}]->(\"c_783\"), (\"p_3515\")-[:hold_share@0{share: 3.0}]->(\"c_425\"), (\"p_3515\")-[:hold_share@0{share: 2.0}]->(\"c_465\"), (\"p_3515\")-[:hold_share@0{share: 12.0}]->(\"c_509\"), (\"p_3515\")-[:hold_share@0{share: 9.0}]->(\"c_568\"), (\"p_3515\")-[:hold_share@0{share: 7.0}]->(\"c_580\"), (\"p_3515\")-[:reletive_with@0{degree: 54}]->(\"p_4607\"), (\"p_5703\")-[:role_as@0{role: \"'Teacher;music'\"}]->(\"c_735\"), (\"p_5703\")-[:role_as@0{role: \"Customer service manager\"}]->(\"c_820\"), (\"p_5703\")-[:hold_share@0{share: 10.0}]->(\"c_203\"), (\"p_5703\")-[:hold_share@0{share: 13.0}]->(\"c_369\"), (\"p_5703\")-[:hold_share@0{share: 11.0}]->(\"c_517\"), (\"p_5703\")-[:reletive_with@0{degree: 48}]->(\"p_3519\"), (\"p_6729\")-[:hold_share@0{share: 13.0}]->(\"c_312\"), (\"p_6729\")-[:hold_share@0{share: 14.0}]->(\"c_354\"), (\"p_6729\")-[:hold_share@0{share: 12.0}]->(\"c_599\"), (\"p_6729\")-[:hold_share@0{share: 11.0}]->(\"c_965\"), (\"p_6928\")-[:role_as@0{role: \"'Engineer;materials'\"}]->(\"c_745\"), (\"p_6928\")-[:hold_share@0{share: 4.0}]->(\"c_892\"), (\"p_6928\")-[:hold_share@0{share: 2.0}]->(\"c_9\"), (\"p_8573\")-[:reletive_with@0{degree: 62}]->(\"p_7229\"), (\"p_7229\")-[:hold_share@0{share: 3.0}]->(\"c_878\"), (\"p_7229\")-[:hold_share@0{share: 6.0}]->(\"c_965\"), (\"p_8008\")-[:role_as@0{role: \"Ranger/warden\"}]->(\"c_981\"), (\"p_8008\")-[:hold_share@0{share: 3.0}]->(\"c_769\"), (\"p_8008\")-[:reletive_with@0{degree: 81}]->(\"p_4062\"), (\"p_8241\")-[:hold_share@0{share: 6.0}]->(\"c_868\"), (\"p_8340\")-[:hold_share@0{share: 11.0}]->(\"c_586\"), (\"p_8340\")-[:hold_share@0{share: 9.0}]->(\"c_93\"), (\"p_8340\")-[:reletive_with@0{degree: 75}]->(\"p_2173\"), (\"p_8687\")-[:hold_share@0{share: 14.0}]->(\"c_165\"), (\"p_8687\")-[:hold_share@0{share: 0.0}]->(\"c_479\"), (\"p_8687\")-[:hold_share@0{share: 13.0}]->(\"c_84\"), (\"p_3095\")-[:hold_share@0{share: 2.0}]->(\"c_405\"), (\"p_3095\")-[:hold_share@0{share: 12.0}]->(\"c_685\"), (\"p_4182\")-[:hold_share@0{share: 6.0}]->(\"c_448\"), (\"p_4182\")-[:hold_share@0{share: 13.0}]->(\"c_899\"), (\"p_5385\")-[:hold_share@0{share: 8.0}]->(\"c_654\"), (\"p_5385\")-[:hold_share@0{share: 1.0}]->(\"c_670\"), (\"p_5765\")-[:hold_share@0{share: 11.0}]->(\"c_337\"), (\"p_5765\")-[:hold_share@0{share: 15.0}]->(\"c_436\"), (\"p_6875\")-[:role_as@0{role: \"Community pharmacist\"}]->(\"c_962\"), (\"p_6875\")-[:hold_share@0{share: 3.0}]->(\"c_987\"), (\"p_9277\")-[:role_as@0{role: \"'Nurse;adult'\"}]->(\"c_857\"), (\"p_9277\")-[:hold_share@0{share: 15.0}]->(\"c_66\"), (\"p_1613\")-[:role_as@0{role: \"Public house manager\"}]->(\"c_802\"), (\"p_1613\")-[:hold_share@0{share: 3.0}]->(\"c_234\"), (\"p_1613\")-[:hold_share@0{share: 11.0}]->(\"c_459\"), (\"p_1613\")-[:hold_share@0{share: 0.0}]->(\"c_560\"), (\"p_1613\")-[:hold_share@0{share: 15.0}]->(\"c_656\"), (\"p_1613\")-[:hold_share@0{share: 1.0}]->(\"c_940\"), (\"p_2121\")-[:hold_share@0{share: 14.0}]->(\"c_296\"), (\"p_2803\")-[:role_as@0{role: \"Forensic scientist\"}]->(\"c_391\"), (\"p_3012\")-[:role_as@0{role: \"Computer games developer\"}]->(\"c_159\"), (\"p_3012\")-[:hold_share@0{share: 15.0}]->(\"c_189\"), (\"p_3012\")-[:hold_share@0{share: 1.0}]->(\"c_486\"), (\"p_3012\")-[:hold_share@0{share: 7.0}]->(\"c_862\"), (\"p_3012\")-[:reletive_with@0{degree: 61}]->(\"p_89\"), (\"p_3020\")-[:hold_share@0{share: 2.0}]->(\"c_325\"), (\"p_3020\")-[:hold_share@0{share: 14.0}]->(\"c_622\"), (\"p_3258\")-[:hold_share@0{share: 0.0}]->(\"c_668\"), (\"p_3258\")-[:hold_share@0{share: 9.0}]->(\"c_766\"), (\"p_3595\")-[:hold_share@0{share: 14.0}]->(\"c_209\"), (\"p_3595\")-[:hold_share@0{share: 5.0}]->(\"c_743\"), (\"p_4113\")-[:role_as@0{role: \"Research scientist (maths)\"}]->(\"c_480\"), (\"p_4113\")-[:hold_share@0{share: 14.0}]->(\"c_433\"), (\"p_4113\")-[:hold_share@0{share: 5.0}]->(\"c_968\"), (\"p_5742\")-[:role_as@0{role: \"Museum/gallery exhibitions officer\"}]->(\"c_8\"), (\"p_5742\")-[:hold_share@0{share: 7.0}]->(\"c_150\"), (\"p_5742\")-[:hold_share@0{share: 14.0}]->(\"c_349\"), (\"p_5742\")-[:hold_share@0{share: 1.0}]->(\"c_493\"), (\"p_5742\")-[:hold_share@0{share: 14.0}]->(\"c_859\"), (\"p_5742\")-[:hold_share@0{share: 3.0}]->(\"c_934\"), ...]\n",
       "3  [(\"c_797\" :corp{name: \"Meza, Hernandez and Kennedy\"}), (\"c_153\" :corp{name: \"Smith, Anthony and Melton\"}), (\"c_916\" :corp{name: \"Obrien and Sons\"}), (\"c_191\" :corp{name: \"Johns-Hardy\"}), (\"c_55\" :corp{name: \"Williams-Patel\"}), (\"c_640\" :corp{name: \"Mills, Bates and Mcdonald\"}), (\"c_457\" :corp{name: \"Medina-Bates\"}), (\"c_865\" :corp{name: \"Sanchez, Taylor and Clark\"}), (\"p_6296\" :person{name: \"Rhonda Braun\"}), (\"c_112\" :corp{name: \"Martin, Clements and Pruitt\"}), (\"c_840\" :corp{name: \"Hill-Delgado\"}), (\"c_978\" :corp{name: \"Frazier, Rodriguez and Donaldson\"}), (\"c_58\" :corp{name: \"Swanson, Harding and Cruz\"}), (\"c_876\" :corp{name: \"Hughes Ltd\"}), (\"c_759\" :corp{name: \"Waters Inc\"}), (\"p_4367\" :person{name: \"Michael Peters\"}), (\"c_447\" :corp{name: \"Robinson, Sullivan and Yang\"}), (\"c_491\" :corp{name: \"James-Taylor\"}), (\"c_678\" :corp{name: \"Murphy-Jackson\"}), (\"c_773\" :corp{name: \"Skinner Inc\"}), (\"c_949\" :corp{name: \"Dean Inc\"}), (\"c_661\" :corp{name: \"Charles LLC\"}), (\"c_927\" :corp{name: \"Beard Ltd\"}), (\"c_223\" :corp{name: \"Walters and Sons\"}), (\"c_18\" :corp{name: \"Williams-Weaver\"}), (\"c_737\" :corp{name: \"Newman, Byrd and Lynch\"}), (\"c_67\" :corp{name: \"Cole-Odom\"}), (\"c_783\" :corp{name: \"Glass, Lopez and Lee\"}), (\"c_425\" :corp{name: \"Taylor-Waters\"}), (\"c_465\" :corp{name: \"Wilson-Burns\"}), (\"c_509\" :corp{name: \"Todd, Boone and Gonzales\"}), (\"c_568\" :corp{name: \"Ponce, Bates and Cummings\"}), (\"c_580\" :corp{name: \"Hogan-Williams\"}), (\"p_4607\" :person{name: \"Erica Crawford\"}), (\"c_735\" :corp{name: \"Wood, Good and Johnson\"}), (\"c_820\" :corp{name: \"Cline LLC\"}), (\"c_203\" :corp{name: \"Myers, Valdez and Carr\"}), (\"c_369\" :corp{name: \"Miller, Wright and Jenkins\"}), (\"c_517\" :corp{name: \"Wright-Gonzalez\"}), (\"p_3519\" :person{name: \"Jason Smith\"}), (\"c_312\" :corp{name: \"Shannon-Hernandez\"}), (\"c_354\" :corp{name: \"Nichols, Santos and Hickman\"}), (\"c_599\" :corp{name: \"Jackson, Owens and Nelson\"}), (\"c_965\" :corp{name: \"Lopez, Leonard and Morales\"}), (\"c_745\" :corp{name: \"Lara, Dorsey and Reynolds\"}), (\"c_892\" :corp{name: \"Lawson, Williams and Nunez\"}), (\"c_9\" :corp{name: \"Hinton LLC\"}), (\"p_8573\" :person{name: \"Leslie Warren\"}), (\"c_878\" :corp{name: \"Bell-Johnson\"}), (\"c_981\" :corp{name: \"Sanchez-Alexander\"}), (\"c_769\" :corp{name: \"Ramirez and Sons\"}), (\"p_4062\" :person{name: \"Caitlin Hebert\"}), (\"c_868\" :corp{name: \"Perkins, Church and Garcia\"}), (\"c_586\" :corp{name: \"Moore-Schroeder\"}), (\"c_93\" :corp{name: \"Reid-Newton\"}), (\"p_2173\" :person{name: \"Sandra Rodgers\"}), (\"c_165\" :corp{name: \"Gordon-Wallace\"}), (\"c_479\" :corp{name: \"Gallegos-Hickman\"}), (\"c_84\" :corp{name: \"Dominguez, Gilmore and Carson\"}), (\"c_405\" :corp{name: \"Singleton, Rodgers and Kim\"}), (\"c_685\" :corp{name: \"Olson, Wright and Gibbs\"}), (\"c_448\" :corp{name: \"Singh-Flynn\"}), (\"c_899\" :corp{name: \"Johnson Ltd\"}), (\"c_654\" :corp{name: \"Rocha, Hale and Le\"}), (\"c_670\" :corp{name: \"Peters LLC\"}), (\"c_337\" :corp{name: \"Rodriguez, Padilla and Alexander\"}), (\"c_436\" :corp{name: \"Gregory-Bailey\"}), (\"c_962\" :corp{name: \"Flores-White\"}), (\"c_987\" :corp{name: \"Garcia-Potts\"}), (\"c_857\" :corp{name: \"Ayala LLC\"}), (\"c_66\" :corp{name: \"Trujillo-Kennedy\"}), (\"c_802\" :corp{name: \"Hartman, Hall and Frazier\"}), (\"c_234\" :corp{name: \"Pena-Martinez\"}), (\"c_459\" :corp{name: \"Jensen, Webb and Garrett\"}), (\"c_560\" :corp{name: \"Massey-Walsh\"}), (\"c_656\" :corp{name: \"Johnson LLC\"}), (\"c_940\" :corp{name: \"Lopez-Lin\"}), (\"c_296\" :corp{name: \"Roach, Martin and Bush\"}), (\"c_391\" :corp{name: \"Hansen-Bowers\"}), (\"c_159\" :corp{name: \"Salazar, Allen and Allen\"}), (\"c_189\" :corp{name: \"Wilson and Sons\"}), (\"c_486\" :corp{name: \"Powell LLC\"}), (\"c_862\" :corp{name: \"Gonzales-Hicks\"}), (\"p_89\" :person{name: \"Austin Ballard\"}), (\"c_325\" :corp{name: \"Mcdaniel Ltd\"}), (\"c_622\" :corp{name: \"Dyer, King and Martin\"}), (\"c_668\" :corp{name: \"Franklin-Sanchez\"}), (\"c_766\" :corp{name: \"Castillo-Berry\"}), (\"c_209\" :corp{name: \"Jones, Martinez and Ortega\"}), (\"c_743\" :corp{name: \"Smith, Phillips and Allen\"}), (\"c_480\" :corp{name: \"Cline, Carson and Valdez\"}), (\"c_433\" :corp{name: \"Swanson-Yu\"}), (\"c_968\" :corp{name: \"Smith Group\"}), (\"c_8\" :corp{name: \"Thompson Group\"}), (\"c_150\" :corp{name: \"Mcpherson-Martinez\"}), (\"c_349\" :corp{name: \"Gilmore, Bradley and Taylor\"}), (\"c_493\" :corp{name: \"Davis LLC\"}), (\"c_859\" :corp{name: \"Smith LLC\"}), (\"c_934\" :corp{name: \"Salinas, Bender and Taylor\"}), (\"c_537\" :corp{name: \"Byrd LLC\"}), ...]                                                                                                                                                                                                                                                                                                                                                                                                                                                                                                                                                                                                                                                                                                                                                                                                                                                                                                                                                                                                                                                                                                                                                                                                                                                                                                                                                                                                                                                                                                                                                                                                                                                                                                                                                                                                                                                                                                                                                                                                                                                                                                                                                                                                                                                                                                                                                                                                                                                                                                                                                                                                                                                                                                                                                                                                                                                                                                                                                                                                                                                                                                                                                                                                                                                                                                                                                                                                                                                                                                                                                                                                                                                                                                                                                                                                                                                                                                                                                                                                                                                                                                                                                                                                                                                                                                                                                                                                                                                                                                                                                                                                                [(\"p_3519\")-[:hold_share@0{share: 10.0}]->(\"c_447\"), (\"c_354\")-[:hold_share@0{share: 7.0}]->(\"c_968\"), (\"p_8573\")-[:role_as@0{role: \"Race relations officer\"}]->(\"c_607\"), (\"p_2173\")-[:role_as@0{role: \"Environmental health practitioner\"}]->(\"c_55\"), (\"c_802\")-[:hold_share@0{share: 3.0}]->(\"c_640\"), (\"c_968\")-[:is_branch_of@0{}]->(\"c_978\"), (\"c_806\")-[:is_branch_of@0{}]->(\"c_491\"), (\"p_1053\")-[:hold_share@0{share: 1.0}]->(\"c_75\"), (\"p_113\")-[:hold_share@0{share: 12.0}]->(\"c_447\"), (\"p_2565\")-[:hold_share@0{share: 15.0}]->(\"c_509\"), (\"p_4842\")-[:hold_share@0{share: 13.0}]->(\"c_566\"), (\"p_4842\")-[:hold_share@0{share: 11.0}]->(\"c_876\"), (\"p_8735\")-[:hold_share@0{share: 1.0}]->(\"c_987\"), (\"c_796\")-[:is_branch_of@0{}]->(\"c_967\"), (\"p_2898\")-[:hold_share@0{share: 4.0}]->(\"c_599\"), (\"p_3679\")-[:role_as@0{role: \"Claims inspector/assessor\"}]->(\"c_868\"), (\"p_5079\")-[:hold_share@0{share: 8.0}]->(\"c_769\"), (\"p_99\")-[:role_as@0{role: \"Data scientist\"}]->(\"c_112\")]"
      ]
     },
     "execution_count": 8,
     "metadata": {},
     "output_type": "execute_result"
    }
   ],
   "source": [
    "%ngql GET SUBGRAPH WITH PROP 3 STEPS FROM \"p_0\" YIELD VERTICES as v, EDGES as e;"
   ]
  },
  {
   "cell_type": "code",
   "execution_count": 9,
   "id": "e99f087a-3781-4ecf-a5ad-450471a1f72f",
   "metadata": {},
   "outputs": [
    {
     "data": {
      "text/html": [
       "\n",
       "        <iframe\n",
       "            width=\"100%\"\n",
       "            height=\"500px\"\n",
       "            src=\"nebulagraph_cell_9.html\"\n",
       "            frameborder=\"0\"\n",
       "            allowfullscreen\n",
       "            \n",
       "        ></iframe>\n",
       "        "
      ],
      "text/plain": [
       "<IPython.lib.display.IFrame at 0x14f236120>"
      ]
     },
     "metadata": {},
     "output_type": "display_data"
    },
    {
     "data": {
      "text/plain": [
       "<class 'pyvis.network.Network'> |N|=206 |E|=225"
      ]
     },
     "execution_count": 9,
     "metadata": {},
     "output_type": "execute_result"
    }
   ],
   "source": [
    "%ng_draw"
   ]
  },
  {
   "cell_type": "code",
   "execution_count": 10,
   "id": "4c4f1ff9-9d93-4242-a5da-2bba3d9aef8e",
   "metadata": {},
   "outputs": [
    {
     "data": {
      "text/html": [
       "\n",
       "        <iframe\n",
       "            width=\"100%\"\n",
       "            height=\"500px\"\n",
       "            src=\"nebulagraph_cell_10.html\"\n",
       "            frameborder=\"0\"\n",
       "            allowfullscreen\n",
       "            \n",
       "        ></iframe>\n",
       "        "
      ],
      "text/plain": [
       "<IPython.lib.display.IFrame at 0x14f809e20>"
      ]
     },
     "metadata": {},
     "output_type": "display_data"
    },
    {
     "data": {
      "text/plain": [
       "<class 'pyvis.network.Network'> |N|=47 |E|=387"
      ]
     },
     "execution_count": 10,
     "metadata": {},
     "output_type": "execute_result"
    }
   ],
   "source": [
    "%%ng_draw\n",
    "MATCH path_0=(n)--() WHERE id(n) == \"p_0\"\n",
    "OPTIONAL MATCH path_1=(n)--()--()\n",
    "RETURN path_0, path_1"
   ]
  },
  {
   "cell_type": "code",
   "execution_count": null,
   "id": "908639de-84ab-475d-9ad4-be320245f53e",
   "metadata": {},
   "outputs": [],
   "source": []
  }
 ],
 "metadata": {
  "kernelspec": {
   "display_name": "Python 3 (ipykernel)",
   "language": "python",
   "name": "python3"
  },
  "language_info": {
   "codemirror_mode": {
    "name": "ipython",
    "version": 3
   },
   "file_extension": ".py",
   "mimetype": "text/x-python",
   "name": "python",
   "nbconvert_exporter": "python",
   "pygments_lexer": "ipython3",
   "version": "3.12.3"
  }
 },
 "nbformat": 4,
 "nbformat_minor": 5
}
